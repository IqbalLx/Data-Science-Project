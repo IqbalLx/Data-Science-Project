{
  "nbformat": 4,
  "nbformat_minor": 0,
  "metadata": {
    "colab": {
      "name": "Analisa Pendapatan - TA SanberCode DS Bootcamp.ipynb",
      "provenance": [],
      "collapsed_sections": [],
      "authorship_tag": "ABX9TyP4FoPQ0t65WdNfCEvbVixU",
      "include_colab_link": true
    },
    "kernelspec": {
      "name": "python3",
      "display_name": "Python 3"
    },
    "accelerator": "GPU"
  },
  "cells": [
    {
      "cell_type": "markdown",
      "metadata": {
        "id": "view-in-github",
        "colab_type": "text"
      },
      "source": [
        "<a href=\"https://colab.research.google.com/github/IqbalLx/Data-Science-Project/blob/master/Analisa_Pendapatan%20(TA_SanberCode_DS_Bootcamp).ipynb\" target=\"_parent\"><img src=\"https://colab.research.google.com/assets/colab-badge.svg\" alt=\"Open In Colab\"/></a>"
      ]
    },
    {
      "cell_type": "markdown",
      "metadata": {
        "id": "oO2irlU-H6ht",
        "colab_type": "text"
      },
      "source": [
        "# Preparing the Dataset"
      ]
    },
    {
      "cell_type": "code",
      "metadata": {
        "id": "uGznksShEEXo",
        "colab_type": "code",
        "outputId": "699500a8-fd95-4ed9-efc0-1d9e37fc8d3d",
        "colab": {
          "resources": {
            "http://localhost:8080/nbextensions/google.colab/files.js": {
              "data": "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",
              "ok": true,
              "headers": [
                [
                  "content-type",
                  "application/javascript"
                ]
              ],
              "status": 200,
              "status_text": ""
            }
          },
          "base_uri": "https://localhost:8080/",
          "height": 74
        }
      },
      "source": [
        "from google.colab import files\n",
        "data = files.upload()"
      ],
      "execution_count": 0,
      "outputs": [
        {
          "output_type": "display_data",
          "data": {
            "text/html": [
              "\n",
              "     <input type=\"file\" id=\"files-197c7981-a073-4ae6-a172-727c4da8f2c7\" name=\"files[]\" multiple disabled />\n",
              "     <output id=\"result-197c7981-a073-4ae6-a172-727c4da8f2c7\">\n",
              "      Upload widget is only available when the cell has been executed in the\n",
              "      current browser session. Please rerun this cell to enable.\n",
              "      </output>\n",
              "      <script src=\"/nbextensions/google.colab/files.js\"></script> "
            ],
            "text/plain": [
              "<IPython.core.display.HTML object>"
            ]
          },
          "metadata": {
            "tags": []
          }
        },
        {
          "output_type": "stream",
          "text": [
            "Saving sanbercode-data-science.zip to sanbercode-data-science.zip\n"
          ],
          "name": "stdout"
        }
      ]
    },
    {
      "cell_type": "code",
      "metadata": {
        "id": "qkaVg4vyEYRb",
        "colab_type": "code",
        "colab": {}
      },
      "source": [
        "import zipfile\n",
        "\n",
        "filename = [key for key in data.keys()][0]\n",
        "zip_ref = zipfile.ZipFile(filename)\n",
        "zip_ref.extractall()\n",
        "zip_ref.close()"
      ],
      "execution_count": 0,
      "outputs": []
    },
    {
      "cell_type": "markdown",
      "metadata": {
        "id": "IOFPFqQJH--a",
        "colab_type": "text"
      },
      "source": [
        "# Dataset Overview"
      ]
    },
    {
      "cell_type": "code",
      "metadata": {
        "id": "EO172IHSFZK2",
        "colab_type": "code",
        "outputId": "2ec8c5e8-9183-42ca-c5d5-fc8aa3012605",
        "colab": {
          "base_uri": "https://localhost:8080/",
          "height": 71
        }
      },
      "source": [
        "import pandas as pd\n",
        "import numpy as np\n",
        "import matplotlib.pyplot as plt\n",
        "import seaborn as sns\n",
        "from sklearn.preprocessing import StandardScaler\n",
        "from xgboost import XGBClassifier\n",
        "from sklearn.ensemble import RandomForestClassifier\n",
        "from sklearn.model_selection import cross_val_score, RandomizedSearchCV\n",
        "sns.set()"
      ],
      "execution_count": 0,
      "outputs": [
        {
          "output_type": "stream",
          "text": [
            "/usr/local/lib/python3.6/dist-packages/statsmodels/tools/_testing.py:19: FutureWarning: pandas.util.testing is deprecated. Use the functions in the public API at pandas.testing instead.\n",
            "  import pandas.util.testing as tm\n"
          ],
          "name": "stderr"
        }
      ]
    },
    {
      "cell_type": "code",
      "metadata": {
        "id": "ZbEmOkvuFjKD",
        "colab_type": "code",
        "outputId": "682a88bd-ee60-4d59-ebef-ab1de88f7094",
        "colab": {
          "base_uri": "https://localhost:8080/",
          "height": 411
        }
      },
      "source": [
        "df_raw = pd.read_csv('Pendapatan.csv')\n",
        "df_test_raw = pd.read_csv('Pendapatan_test.csv')\n",
        "\n",
        "df = df_raw.copy()\n",
        "df_test = df_test_raw.copy()\n",
        "\n",
        "df.head()"
      ],
      "execution_count": 0,
      "outputs": [
        {
          "output_type": "execute_result",
          "data": {
            "text/html": [
              "<div>\n",
              "<style scoped>\n",
              "    .dataframe tbody tr th:only-of-type {\n",
              "        vertical-align: middle;\n",
              "    }\n",
              "\n",
              "    .dataframe tbody tr th {\n",
              "        vertical-align: top;\n",
              "    }\n",
              "\n",
              "    .dataframe thead th {\n",
              "        text-align: right;\n",
              "    }\n",
              "</style>\n",
              "<table border=\"1\" class=\"dataframe\">\n",
              "  <thead>\n",
              "    <tr style=\"text-align: right;\">\n",
              "      <th></th>\n",
              "      <th>id</th>\n",
              "      <th>Umur</th>\n",
              "      <th>Kelas Pekerja</th>\n",
              "      <th>Berat Akhir</th>\n",
              "      <th>Pendidikan</th>\n",
              "      <th>Jmlh Tahun Pendidikan</th>\n",
              "      <th>Status Perkawinan</th>\n",
              "      <th>Pekerjaan</th>\n",
              "      <th>Jenis Kelamin</th>\n",
              "      <th>Keuntungan Kapital</th>\n",
              "      <th>Kerugian Capital</th>\n",
              "      <th>Jam per Minggu</th>\n",
              "      <th>Gaji</th>\n",
              "    </tr>\n",
              "  </thead>\n",
              "  <tbody>\n",
              "    <tr>\n",
              "      <th>0</th>\n",
              "      <td>27247</td>\n",
              "      <td>59</td>\n",
              "      <td>Pemerintah Negara</td>\n",
              "      <td>139616</td>\n",
              "      <td>Master</td>\n",
              "      <td>14</td>\n",
              "      <td>Menikah</td>\n",
              "      <td>Ekesekutif Managerial</td>\n",
              "      <td>Laki2</td>\n",
              "      <td>0.0</td>\n",
              "      <td>0.0</td>\n",
              "      <td>50.0</td>\n",
              "      <td>1</td>\n",
              "    </tr>\n",
              "    <tr>\n",
              "      <th>1</th>\n",
              "      <td>1640</td>\n",
              "      <td>52</td>\n",
              "      <td>Wiraswasta</td>\n",
              "      <td>158993</td>\n",
              "      <td>SMA</td>\n",
              "      <td>9</td>\n",
              "      <td>Cerai</td>\n",
              "      <td>Servis Lainnya</td>\n",
              "      <td>Perempuan</td>\n",
              "      <td>0.0</td>\n",
              "      <td>0.0</td>\n",
              "      <td>38.0</td>\n",
              "      <td>0</td>\n",
              "    </tr>\n",
              "    <tr>\n",
              "      <th>2</th>\n",
              "      <td>45206</td>\n",
              "      <td>52</td>\n",
              "      <td>Pekerja Bebas Bukan Perusahan</td>\n",
              "      <td>284648</td>\n",
              "      <td>SMA</td>\n",
              "      <td>9</td>\n",
              "      <td>Cerai</td>\n",
              "      <td>Ekesekutif Managerial</td>\n",
              "      <td>Perempuan</td>\n",
              "      <td>0.0</td>\n",
              "      <td>0.0</td>\n",
              "      <td>99.0</td>\n",
              "      <td>1</td>\n",
              "    </tr>\n",
              "    <tr>\n",
              "      <th>3</th>\n",
              "      <td>16154</td>\n",
              "      <td>45</td>\n",
              "      <td>Wiraswasta</td>\n",
              "      <td>132847</td>\n",
              "      <td>SMA</td>\n",
              "      <td>9</td>\n",
              "      <td>Belum Pernah Menikah</td>\n",
              "      <td>Pembersih</td>\n",
              "      <td>Perempuan</td>\n",
              "      <td>0.0</td>\n",
              "      <td>0.0</td>\n",
              "      <td>40.0</td>\n",
              "      <td>0</td>\n",
              "    </tr>\n",
              "    <tr>\n",
              "      <th>4</th>\n",
              "      <td>43023</td>\n",
              "      <td>28</td>\n",
              "      <td>Wiraswasta</td>\n",
              "      <td>103432</td>\n",
              "      <td>SMA</td>\n",
              "      <td>9</td>\n",
              "      <td>Belum Pernah Menikah</td>\n",
              "      <td>Supir</td>\n",
              "      <td>Laki2</td>\n",
              "      <td>0.0</td>\n",
              "      <td>0.0</td>\n",
              "      <td>45.0</td>\n",
              "      <td>1</td>\n",
              "    </tr>\n",
              "  </tbody>\n",
              "</table>\n",
              "</div>"
            ],
            "text/plain": [
              "      id  Umur  ... Jam per Minggu  Gaji\n",
              "0  27247    59  ...           50.0     1\n",
              "1   1640    52  ...           38.0     0\n",
              "2  45206    52  ...           99.0     1\n",
              "3  16154    45  ...           40.0     0\n",
              "4  43023    28  ...           45.0     1\n",
              "\n",
              "[5 rows x 13 columns]"
            ]
          },
          "metadata": {
            "tags": []
          },
          "execution_count": 4
        }
      ]
    },
    {
      "cell_type": "code",
      "metadata": {
        "id": "F39Z0tmwGA1U",
        "colab_type": "code",
        "outputId": "e375d5e0-8788-4786-e46f-baa2de0a506e",
        "colab": {
          "base_uri": "https://localhost:8080/",
          "height": 360
        }
      },
      "source": [
        "df_test.head()"
      ],
      "execution_count": 0,
      "outputs": [
        {
          "output_type": "execute_result",
          "data": {
            "text/html": [
              "<div>\n",
              "<style scoped>\n",
              "    .dataframe tbody tr th:only-of-type {\n",
              "        vertical-align: middle;\n",
              "    }\n",
              "\n",
              "    .dataframe tbody tr th {\n",
              "        vertical-align: top;\n",
              "    }\n",
              "\n",
              "    .dataframe thead th {\n",
              "        text-align: right;\n",
              "    }\n",
              "</style>\n",
              "<table border=\"1\" class=\"dataframe\">\n",
              "  <thead>\n",
              "    <tr style=\"text-align: right;\">\n",
              "      <th></th>\n",
              "      <th>id</th>\n",
              "      <th>Umur</th>\n",
              "      <th>Kelas Pekerja</th>\n",
              "      <th>Berat Akhir</th>\n",
              "      <th>Pendidikan</th>\n",
              "      <th>Jmlh Tahun Pendidikan</th>\n",
              "      <th>Status Perkawinan</th>\n",
              "      <th>Pekerjaan</th>\n",
              "      <th>Jenis Kelamin</th>\n",
              "      <th>Keuntungan Kapital</th>\n",
              "      <th>Kerugian Capital</th>\n",
              "      <th>Jam per Minggu</th>\n",
              "    </tr>\n",
              "  </thead>\n",
              "  <tbody>\n",
              "    <tr>\n",
              "      <th>0</th>\n",
              "      <td>47933</td>\n",
              "      <td>30</td>\n",
              "      <td>Pemerintah Lokal</td>\n",
              "      <td>99761</td>\n",
              "      <td>D4</td>\n",
              "      <td>11</td>\n",
              "      <td>Cerai</td>\n",
              "      <td>Pemuka Agama</td>\n",
              "      <td>Perempuan</td>\n",
              "      <td>0.0</td>\n",
              "      <td>0.0</td>\n",
              "      <td>40.0</td>\n",
              "    </tr>\n",
              "    <tr>\n",
              "      <th>1</th>\n",
              "      <td>44213</td>\n",
              "      <td>28</td>\n",
              "      <td>Wiraswasta</td>\n",
              "      <td>202206</td>\n",
              "      <td>SMA</td>\n",
              "      <td>9</td>\n",
              "      <td>Menikah</td>\n",
              "      <td>Mesin Inspeksi</td>\n",
              "      <td>Laki2</td>\n",
              "      <td>0.0</td>\n",
              "      <td>0.0</td>\n",
              "      <td>50.0</td>\n",
              "    </tr>\n",
              "    <tr>\n",
              "      <th>2</th>\n",
              "      <td>20823</td>\n",
              "      <td>34</td>\n",
              "      <td>Pemerintah Provinsi</td>\n",
              "      <td>199934</td>\n",
              "      <td>Pendidikan Tinggi</td>\n",
              "      <td>10</td>\n",
              "      <td>Menikah</td>\n",
              "      <td>Pemuka Agama</td>\n",
              "      <td>Laki2</td>\n",
              "      <td>0.0</td>\n",
              "      <td>0.0</td>\n",
              "      <td>40.0</td>\n",
              "    </tr>\n",
              "    <tr>\n",
              "      <th>3</th>\n",
              "      <td>40565</td>\n",
              "      <td>51</td>\n",
              "      <td>Wiraswasta</td>\n",
              "      <td>373448</td>\n",
              "      <td>Pendidikan Tinggi</td>\n",
              "      <td>10</td>\n",
              "      <td>Menikah</td>\n",
              "      <td>Ekesekutif Managerial</td>\n",
              "      <td>Laki2</td>\n",
              "      <td>0.0</td>\n",
              "      <td>28028000.0</td>\n",
              "      <td>40.0</td>\n",
              "    </tr>\n",
              "    <tr>\n",
              "      <th>4</th>\n",
              "      <td>9860</td>\n",
              "      <td>20</td>\n",
              "      <td>?</td>\n",
              "      <td>144685</td>\n",
              "      <td>Pendidikan Tinggi</td>\n",
              "      <td>10</td>\n",
              "      <td>Belum Pernah Menikah</td>\n",
              "      <td>?</td>\n",
              "      <td>Perempuan</td>\n",
              "      <td>0.0</td>\n",
              "      <td>22428000.0</td>\n",
              "      <td>40.0</td>\n",
              "    </tr>\n",
              "  </tbody>\n",
              "</table>\n",
              "</div>"
            ],
            "text/plain": [
              "      id  Umur  ... Kerugian Capital  Jam per Minggu\n",
              "0  47933    30  ...              0.0            40.0\n",
              "1  44213    28  ...              0.0            50.0\n",
              "2  20823    34  ...              0.0            40.0\n",
              "3  40565    51  ...       28028000.0            40.0\n",
              "4   9860    20  ...       22428000.0            40.0\n",
              "\n",
              "[5 rows x 12 columns]"
            ]
          },
          "metadata": {
            "tags": []
          },
          "execution_count": 5
        }
      ]
    },
    {
      "cell_type": "code",
      "metadata": {
        "id": "ozr8Svu6HsJN",
        "colab_type": "code",
        "outputId": "0efb71eb-eeab-47af-b8e3-9a738b3320f5",
        "colab": {
          "base_uri": "https://localhost:8080/",
          "height": 357
        }
      },
      "source": [
        "df.info()"
      ],
      "execution_count": 0,
      "outputs": [
        {
          "output_type": "stream",
          "text": [
            "<class 'pandas.core.frame.DataFrame'>\n",
            "RangeIndex: 38393 entries, 0 to 38392\n",
            "Data columns (total 13 columns):\n",
            " #   Column                 Non-Null Count  Dtype  \n",
            "---  ------                 --------------  -----  \n",
            " 0   id                     38393 non-null  int64  \n",
            " 1   Umur                   38393 non-null  int64  \n",
            " 2   Kelas Pekerja          38393 non-null  object \n",
            " 3   Berat Akhir            38393 non-null  int64  \n",
            " 4   Pendidikan             38393 non-null  object \n",
            " 5   Jmlh Tahun Pendidikan  38393 non-null  int64  \n",
            " 6   Status Perkawinan      38393 non-null  object \n",
            " 7   Pekerjaan              38393 non-null  object \n",
            " 8   Jenis Kelamin          38393 non-null  object \n",
            " 9   Keuntungan Kapital     38393 non-null  float64\n",
            " 10  Kerugian Capital       38393 non-null  float64\n",
            " 11  Jam per Minggu         38393 non-null  float64\n",
            " 12  Gaji                   38393 non-null  int64  \n",
            "dtypes: float64(3), int64(5), object(5)\n",
            "memory usage: 3.8+ MB\n"
          ],
          "name": "stdout"
        }
      ]
    },
    {
      "cell_type": "code",
      "metadata": {
        "id": "uiEPw8qSGxtj",
        "colab_type": "code",
        "outputId": "a98a646c-2d07-4d28-986b-97e2a66575b8",
        "colab": {
          "base_uri": "https://localhost:8080/",
          "height": 385
        }
      },
      "source": [
        "df.describe().apply(lambda s: s.apply(lambda x: format(x, 'f'))).transpose()"
      ],
      "execution_count": 0,
      "outputs": [
        {
          "output_type": "execute_result",
          "data": {
            "text/html": [
              "<div>\n",
              "<style scoped>\n",
              "    .dataframe tbody tr th:only-of-type {\n",
              "        vertical-align: middle;\n",
              "    }\n",
              "\n",
              "    .dataframe tbody tr th {\n",
              "        vertical-align: top;\n",
              "    }\n",
              "\n",
              "    .dataframe thead th {\n",
              "        text-align: right;\n",
              "    }\n",
              "</style>\n",
              "<table border=\"1\" class=\"dataframe\">\n",
              "  <thead>\n",
              "    <tr style=\"text-align: right;\">\n",
              "      <th></th>\n",
              "      <th>count</th>\n",
              "      <th>mean</th>\n",
              "      <th>std</th>\n",
              "      <th>min</th>\n",
              "      <th>25%</th>\n",
              "      <th>50%</th>\n",
              "      <th>75%</th>\n",
              "      <th>max</th>\n",
              "    </tr>\n",
              "  </thead>\n",
              "  <tbody>\n",
              "    <tr>\n",
              "      <th>id</th>\n",
              "      <td>38393.000000</td>\n",
              "      <td>24015.248535</td>\n",
              "      <td>13872.059919</td>\n",
              "      <td>0.000000</td>\n",
              "      <td>11989.000000</td>\n",
              "      <td>24050.000000</td>\n",
              "      <td>36031.000000</td>\n",
              "      <td>47991.000000</td>\n",
              "    </tr>\n",
              "    <tr>\n",
              "      <th>Umur</th>\n",
              "      <td>38393.000000</td>\n",
              "      <td>38.673925</td>\n",
              "      <td>13.694678</td>\n",
              "      <td>17.000000</td>\n",
              "      <td>28.000000</td>\n",
              "      <td>37.000000</td>\n",
              "      <td>48.000000</td>\n",
              "      <td>90.000000</td>\n",
              "    </tr>\n",
              "    <tr>\n",
              "      <th>Berat Akhir</th>\n",
              "      <td>38393.000000</td>\n",
              "      <td>189723.756284</td>\n",
              "      <td>105576.445288</td>\n",
              "      <td>12285.000000</td>\n",
              "      <td>117751.000000</td>\n",
              "      <td>178385.000000</td>\n",
              "      <td>237630.000000</td>\n",
              "      <td>1490400.000000</td>\n",
              "    </tr>\n",
              "    <tr>\n",
              "      <th>Jmlh Tahun Pendidikan</th>\n",
              "      <td>38393.000000</td>\n",
              "      <td>10.082828</td>\n",
              "      <td>2.574543</td>\n",
              "      <td>1.000000</td>\n",
              "      <td>9.000000</td>\n",
              "      <td>10.000000</td>\n",
              "      <td>12.000000</td>\n",
              "      <td>16.000000</td>\n",
              "    </tr>\n",
              "    <tr>\n",
              "      <th>Keuntungan Kapital</th>\n",
              "      <td>38393.000000</td>\n",
              "      <td>15186589.065715</td>\n",
              "      <td>104437326.454833</td>\n",
              "      <td>0.000000</td>\n",
              "      <td>0.000000</td>\n",
              "      <td>0.000000</td>\n",
              "      <td>0.000000</td>\n",
              "      <td>1399986000.000000</td>\n",
              "    </tr>\n",
              "    <tr>\n",
              "      <th>Kerugian Capital</th>\n",
              "      <td>38393.000000</td>\n",
              "      <td>1212665.173339</td>\n",
              "      <td>5613944.895757</td>\n",
              "      <td>0.000000</td>\n",
              "      <td>0.000000</td>\n",
              "      <td>0.000000</td>\n",
              "      <td>0.000000</td>\n",
              "      <td>60984000.000000</td>\n",
              "    </tr>\n",
              "    <tr>\n",
              "      <th>Jam per Minggu</th>\n",
              "      <td>38393.000000</td>\n",
              "      <td>40.440627</td>\n",
              "      <td>12.382695</td>\n",
              "      <td>1.000000</td>\n",
              "      <td>40.000000</td>\n",
              "      <td>40.000000</td>\n",
              "      <td>45.000000</td>\n",
              "      <td>99.000000</td>\n",
              "    </tr>\n",
              "    <tr>\n",
              "      <th>Gaji</th>\n",
              "      <td>38393.000000</td>\n",
              "      <td>0.239497</td>\n",
              "      <td>0.426782</td>\n",
              "      <td>0.000000</td>\n",
              "      <td>0.000000</td>\n",
              "      <td>0.000000</td>\n",
              "      <td>0.000000</td>\n",
              "      <td>1.000000</td>\n",
              "    </tr>\n",
              "  </tbody>\n",
              "</table>\n",
              "</div>"
            ],
            "text/plain": [
              "                              count  ...                max\n",
              "id                     38393.000000  ...       47991.000000\n",
              "Umur                   38393.000000  ...          90.000000\n",
              "Berat Akhir            38393.000000  ...     1490400.000000\n",
              "Jmlh Tahun Pendidikan  38393.000000  ...          16.000000\n",
              "Keuntungan Kapital     38393.000000  ...  1399986000.000000\n",
              "Kerugian Capital       38393.000000  ...    60984000.000000\n",
              "Jam per Minggu         38393.000000  ...          99.000000\n",
              "Gaji                   38393.000000  ...           1.000000\n",
              "\n",
              "[8 rows x 8 columns]"
            ]
          },
          "metadata": {
            "tags": []
          },
          "execution_count": 7
        }
      ]
    },
    {
      "cell_type": "code",
      "metadata": {
        "id": "1ROsF0H-GQqr",
        "colab_type": "code",
        "outputId": "2823e89f-210b-49dc-f274-2df6ce63d2c0",
        "colab": {
          "base_uri": "https://localhost:8080/",
          "height": 255
        }
      },
      "source": [
        "df.nunique()"
      ],
      "execution_count": 0,
      "outputs": [
        {
          "output_type": "execute_result",
          "data": {
            "text/plain": [
              "id                       38393\n",
              "Umur                        73\n",
              "Kelas Pekerja                9\n",
              "Berat Akhir              24396\n",
              "Pendidikan                  16\n",
              "Jmlh Tahun Pendidikan       16\n",
              "Status Perkawinan            6\n",
              "Pekerjaan                   15\n",
              "Jenis Kelamin                2\n",
              "Keuntungan Kapital         120\n",
              "Kerugian Capital            96\n",
              "Jam per Minggu              95\n",
              "Gaji                         2\n",
              "dtype: int64"
            ]
          },
          "metadata": {
            "tags": []
          },
          "execution_count": 8
        }
      ]
    },
    {
      "cell_type": "markdown",
      "metadata": {
        "id": "koSy32bFLRZM",
        "colab_type": "text"
      },
      "source": [
        "# Data Preprocess"
      ]
    },
    {
      "cell_type": "code",
      "metadata": {
        "id": "6RjwgRNdJUwr",
        "colab_type": "code",
        "outputId": "17b8e164-2fb2-4612-b7ee-ad547062b72d",
        "colab": {
          "base_uri": "https://localhost:8080/",
          "height": 85
        }
      },
      "source": [
        "df.Pekerjaan.unique()"
      ],
      "execution_count": 0,
      "outputs": [
        {
          "output_type": "execute_result",
          "data": {
            "text/plain": [
              "array(['Ekesekutif Managerial', 'Servis Lainnya', 'Pembersih', 'Supir',\n",
              "       'Sales', 'Perbaikan Kerajinan', '?', 'Tech-support',\n",
              "       'Pemuka Agama', 'Spesialis', 'Mesin Inspeksi', 'Petani', 'Penjaga',\n",
              "       'Asisten Rumah Tangga', 'Tentara'], dtype=object)"
            ]
          },
          "metadata": {
            "tags": []
          },
          "execution_count": 9
        }
      ]
    },
    {
      "cell_type": "markdown",
      "metadata": {
        "id": "kMi0UNYDJ6IF",
        "colab_type": "text"
      },
      "source": [
        "I spot that missing values here is using ?, so I am gonna preprocess it before jump to EDA"
      ]
    },
    {
      "cell_type": "code",
      "metadata": {
        "id": "VkaKNzQxGmpK",
        "colab_type": "code",
        "outputId": "e7c2e22c-1516-443f-8971-75e6c09030a5",
        "colab": {
          "base_uri": "https://localhost:8080/",
          "height": 394
        }
      },
      "source": [
        "df = df.apply(lambda s: np.where(s == '?', np.nan, s))\n",
        "df_test = df_test.apply(lambda s: np.where(s == '?', np.nan, s))\n",
        "\n",
        "# one of five first value in test data should now contain nan for ? value\n",
        "df_test.head()"
      ],
      "execution_count": 0,
      "outputs": [
        {
          "output_type": "stream",
          "text": [
            "/usr/local/lib/python3.6/dist-packages/pandas/core/ops/array_ops.py:253: FutureWarning: elementwise comparison failed; returning scalar instead, but in the future will perform elementwise comparison\n",
            "  res_values = method(rvalues)\n"
          ],
          "name": "stderr"
        },
        {
          "output_type": "execute_result",
          "data": {
            "text/html": [
              "<div>\n",
              "<style scoped>\n",
              "    .dataframe tbody tr th:only-of-type {\n",
              "        vertical-align: middle;\n",
              "    }\n",
              "\n",
              "    .dataframe tbody tr th {\n",
              "        vertical-align: top;\n",
              "    }\n",
              "\n",
              "    .dataframe thead th {\n",
              "        text-align: right;\n",
              "    }\n",
              "</style>\n",
              "<table border=\"1\" class=\"dataframe\">\n",
              "  <thead>\n",
              "    <tr style=\"text-align: right;\">\n",
              "      <th></th>\n",
              "      <th>id</th>\n",
              "      <th>Umur</th>\n",
              "      <th>Kelas Pekerja</th>\n",
              "      <th>Berat Akhir</th>\n",
              "      <th>Pendidikan</th>\n",
              "      <th>Jmlh Tahun Pendidikan</th>\n",
              "      <th>Status Perkawinan</th>\n",
              "      <th>Pekerjaan</th>\n",
              "      <th>Jenis Kelamin</th>\n",
              "      <th>Keuntungan Kapital</th>\n",
              "      <th>Kerugian Capital</th>\n",
              "      <th>Jam per Minggu</th>\n",
              "    </tr>\n",
              "  </thead>\n",
              "  <tbody>\n",
              "    <tr>\n",
              "      <th>0</th>\n",
              "      <td>47933.0</td>\n",
              "      <td>30.0</td>\n",
              "      <td>Pemerintah Lokal</td>\n",
              "      <td>99761.0</td>\n",
              "      <td>D4</td>\n",
              "      <td>11.0</td>\n",
              "      <td>Cerai</td>\n",
              "      <td>Pemuka Agama</td>\n",
              "      <td>Perempuan</td>\n",
              "      <td>0.0</td>\n",
              "      <td>0.0</td>\n",
              "      <td>40.0</td>\n",
              "    </tr>\n",
              "    <tr>\n",
              "      <th>1</th>\n",
              "      <td>44213.0</td>\n",
              "      <td>28.0</td>\n",
              "      <td>Wiraswasta</td>\n",
              "      <td>202206.0</td>\n",
              "      <td>SMA</td>\n",
              "      <td>9.0</td>\n",
              "      <td>Menikah</td>\n",
              "      <td>Mesin Inspeksi</td>\n",
              "      <td>Laki2</td>\n",
              "      <td>0.0</td>\n",
              "      <td>0.0</td>\n",
              "      <td>50.0</td>\n",
              "    </tr>\n",
              "    <tr>\n",
              "      <th>2</th>\n",
              "      <td>20823.0</td>\n",
              "      <td>34.0</td>\n",
              "      <td>Pemerintah Provinsi</td>\n",
              "      <td>199934.0</td>\n",
              "      <td>Pendidikan Tinggi</td>\n",
              "      <td>10.0</td>\n",
              "      <td>Menikah</td>\n",
              "      <td>Pemuka Agama</td>\n",
              "      <td>Laki2</td>\n",
              "      <td>0.0</td>\n",
              "      <td>0.0</td>\n",
              "      <td>40.0</td>\n",
              "    </tr>\n",
              "    <tr>\n",
              "      <th>3</th>\n",
              "      <td>40565.0</td>\n",
              "      <td>51.0</td>\n",
              "      <td>Wiraswasta</td>\n",
              "      <td>373448.0</td>\n",
              "      <td>Pendidikan Tinggi</td>\n",
              "      <td>10.0</td>\n",
              "      <td>Menikah</td>\n",
              "      <td>Ekesekutif Managerial</td>\n",
              "      <td>Laki2</td>\n",
              "      <td>0.0</td>\n",
              "      <td>28028000.0</td>\n",
              "      <td>40.0</td>\n",
              "    </tr>\n",
              "    <tr>\n",
              "      <th>4</th>\n",
              "      <td>9860.0</td>\n",
              "      <td>20.0</td>\n",
              "      <td>NaN</td>\n",
              "      <td>144685.0</td>\n",
              "      <td>Pendidikan Tinggi</td>\n",
              "      <td>10.0</td>\n",
              "      <td>Belum Pernah Menikah</td>\n",
              "      <td>NaN</td>\n",
              "      <td>Perempuan</td>\n",
              "      <td>0.0</td>\n",
              "      <td>22428000.0</td>\n",
              "      <td>40.0</td>\n",
              "    </tr>\n",
              "  </tbody>\n",
              "</table>\n",
              "</div>"
            ],
            "text/plain": [
              "        id  Umur  ... Kerugian Capital  Jam per Minggu\n",
              "0  47933.0  30.0  ...              0.0            40.0\n",
              "1  44213.0  28.0  ...              0.0            50.0\n",
              "2  20823.0  34.0  ...              0.0            40.0\n",
              "3  40565.0  51.0  ...       28028000.0            40.0\n",
              "4   9860.0  20.0  ...       22428000.0            40.0\n",
              "\n",
              "[5 rows x 12 columns]"
            ]
          },
          "metadata": {
            "tags": []
          },
          "execution_count": 10
        }
      ]
    },
    {
      "cell_type": "code",
      "metadata": {
        "id": "-e6ohvDXMH-U",
        "colab_type": "code",
        "outputId": "048c180d-e486-4633-8db0-971833a50620",
        "colab": {
          "base_uri": "https://localhost:8080/",
          "height": 411
        }
      },
      "source": [
        "df.head()"
      ],
      "execution_count": 0,
      "outputs": [
        {
          "output_type": "execute_result",
          "data": {
            "text/html": [
              "<div>\n",
              "<style scoped>\n",
              "    .dataframe tbody tr th:only-of-type {\n",
              "        vertical-align: middle;\n",
              "    }\n",
              "\n",
              "    .dataframe tbody tr th {\n",
              "        vertical-align: top;\n",
              "    }\n",
              "\n",
              "    .dataframe thead th {\n",
              "        text-align: right;\n",
              "    }\n",
              "</style>\n",
              "<table border=\"1\" class=\"dataframe\">\n",
              "  <thead>\n",
              "    <tr style=\"text-align: right;\">\n",
              "      <th></th>\n",
              "      <th>id</th>\n",
              "      <th>Umur</th>\n",
              "      <th>Kelas Pekerja</th>\n",
              "      <th>Berat Akhir</th>\n",
              "      <th>Pendidikan</th>\n",
              "      <th>Jmlh Tahun Pendidikan</th>\n",
              "      <th>Status Perkawinan</th>\n",
              "      <th>Pekerjaan</th>\n",
              "      <th>Jenis Kelamin</th>\n",
              "      <th>Keuntungan Kapital</th>\n",
              "      <th>Kerugian Capital</th>\n",
              "      <th>Jam per Minggu</th>\n",
              "      <th>Gaji</th>\n",
              "    </tr>\n",
              "  </thead>\n",
              "  <tbody>\n",
              "    <tr>\n",
              "      <th>0</th>\n",
              "      <td>27247.0</td>\n",
              "      <td>59.0</td>\n",
              "      <td>Pemerintah Negara</td>\n",
              "      <td>139616.0</td>\n",
              "      <td>Master</td>\n",
              "      <td>14.0</td>\n",
              "      <td>Menikah</td>\n",
              "      <td>Ekesekutif Managerial</td>\n",
              "      <td>Laki2</td>\n",
              "      <td>0.0</td>\n",
              "      <td>0.0</td>\n",
              "      <td>50.0</td>\n",
              "      <td>1.0</td>\n",
              "    </tr>\n",
              "    <tr>\n",
              "      <th>1</th>\n",
              "      <td>1640.0</td>\n",
              "      <td>52.0</td>\n",
              "      <td>Wiraswasta</td>\n",
              "      <td>158993.0</td>\n",
              "      <td>SMA</td>\n",
              "      <td>9.0</td>\n",
              "      <td>Cerai</td>\n",
              "      <td>Servis Lainnya</td>\n",
              "      <td>Perempuan</td>\n",
              "      <td>0.0</td>\n",
              "      <td>0.0</td>\n",
              "      <td>38.0</td>\n",
              "      <td>0.0</td>\n",
              "    </tr>\n",
              "    <tr>\n",
              "      <th>2</th>\n",
              "      <td>45206.0</td>\n",
              "      <td>52.0</td>\n",
              "      <td>Pekerja Bebas Bukan Perusahan</td>\n",
              "      <td>284648.0</td>\n",
              "      <td>SMA</td>\n",
              "      <td>9.0</td>\n",
              "      <td>Cerai</td>\n",
              "      <td>Ekesekutif Managerial</td>\n",
              "      <td>Perempuan</td>\n",
              "      <td>0.0</td>\n",
              "      <td>0.0</td>\n",
              "      <td>99.0</td>\n",
              "      <td>1.0</td>\n",
              "    </tr>\n",
              "    <tr>\n",
              "      <th>3</th>\n",
              "      <td>16154.0</td>\n",
              "      <td>45.0</td>\n",
              "      <td>Wiraswasta</td>\n",
              "      <td>132847.0</td>\n",
              "      <td>SMA</td>\n",
              "      <td>9.0</td>\n",
              "      <td>Belum Pernah Menikah</td>\n",
              "      <td>Pembersih</td>\n",
              "      <td>Perempuan</td>\n",
              "      <td>0.0</td>\n",
              "      <td>0.0</td>\n",
              "      <td>40.0</td>\n",
              "      <td>0.0</td>\n",
              "    </tr>\n",
              "    <tr>\n",
              "      <th>4</th>\n",
              "      <td>43023.0</td>\n",
              "      <td>28.0</td>\n",
              "      <td>Wiraswasta</td>\n",
              "      <td>103432.0</td>\n",
              "      <td>SMA</td>\n",
              "      <td>9.0</td>\n",
              "      <td>Belum Pernah Menikah</td>\n",
              "      <td>Supir</td>\n",
              "      <td>Laki2</td>\n",
              "      <td>0.0</td>\n",
              "      <td>0.0</td>\n",
              "      <td>45.0</td>\n",
              "      <td>1.0</td>\n",
              "    </tr>\n",
              "  </tbody>\n",
              "</table>\n",
              "</div>"
            ],
            "text/plain": [
              "        id  Umur  ... Jam per Minggu  Gaji\n",
              "0  27247.0  59.0  ...           50.0   1.0\n",
              "1   1640.0  52.0  ...           38.0   0.0\n",
              "2  45206.0  52.0  ...           99.0   1.0\n",
              "3  16154.0  45.0  ...           40.0   0.0\n",
              "4  43023.0  28.0  ...           45.0   1.0\n",
              "\n",
              "[5 rows x 13 columns]"
            ]
          },
          "metadata": {
            "tags": []
          },
          "execution_count": 11
        }
      ]
    },
    {
      "cell_type": "code",
      "metadata": {
        "id": "SJGanVK_KkYs",
        "colab_type": "code",
        "outputId": "11753b7d-3021-429e-f7d9-74c7e8a0345b",
        "colab": {
          "base_uri": "https://localhost:8080/",
          "height": 34
        }
      },
      "source": [
        "df.shape"
      ],
      "execution_count": 0,
      "outputs": [
        {
          "output_type": "execute_result",
          "data": {
            "text/plain": [
              "(38393, 13)"
            ]
          },
          "metadata": {
            "tags": []
          },
          "execution_count": 12
        }
      ]
    },
    {
      "cell_type": "code",
      "metadata": {
        "id": "V1mvl4_xKZoX",
        "colab_type": "code",
        "outputId": "c44b6379-9c7e-4e7a-c1f2-8fb028cb844a",
        "colab": {
          "base_uri": "https://localhost:8080/",
          "height": 255
        }
      },
      "source": [
        "df.isnull().sum()"
      ],
      "execution_count": 0,
      "outputs": [
        {
          "output_type": "execute_result",
          "data": {
            "text/plain": [
              "id                          0\n",
              "Umur                        0\n",
              "Kelas Pekerja            2204\n",
              "Berat Akhir                 0\n",
              "Pendidikan                  0\n",
              "Jmlh Tahun Pendidikan       0\n",
              "Status Perkawinan           0\n",
              "Pekerjaan                2210\n",
              "Jenis Kelamin               0\n",
              "Keuntungan Kapital          0\n",
              "Kerugian Capital            0\n",
              "Jam per Minggu              0\n",
              "Gaji                        0\n",
              "dtype: int64"
            ]
          },
          "metadata": {
            "tags": []
          },
          "execution_count": 13
        }
      ]
    },
    {
      "cell_type": "code",
      "metadata": {
        "id": "d9SreNmvKwIZ",
        "colab_type": "code",
        "outputId": "80fad6d9-f9dc-4b1d-c0fd-c390d82682cc",
        "colab": {
          "base_uri": "https://localhost:8080/",
          "height": 34
        }
      },
      "source": [
        "df_test.shape"
      ],
      "execution_count": 0,
      "outputs": [
        {
          "output_type": "execute_result",
          "data": {
            "text/plain": [
              "(9599, 12)"
            ]
          },
          "metadata": {
            "tags": []
          },
          "execution_count": 14
        }
      ]
    },
    {
      "cell_type": "code",
      "metadata": {
        "id": "GEq6l68wKhLJ",
        "colab_type": "code",
        "outputId": "dc3cf915-5ae1-44b3-cc06-dd203b0a3e9a",
        "colab": {
          "base_uri": "https://localhost:8080/",
          "height": 238
        }
      },
      "source": [
        "df_test.isnull().sum()"
      ],
      "execution_count": 0,
      "outputs": [
        {
          "output_type": "execute_result",
          "data": {
            "text/plain": [
              "id                         0\n",
              "Umur                       0\n",
              "Kelas Pekerja            552\n",
              "Berat Akhir                0\n",
              "Pendidikan                 0\n",
              "Jmlh Tahun Pendidikan      0\n",
              "Status Perkawinan          0\n",
              "Pekerjaan                554\n",
              "Jenis Kelamin              0\n",
              "Keuntungan Kapital         0\n",
              "Kerugian Capital           0\n",
              "Jam per Minggu             0\n",
              "dtype: int64"
            ]
          },
          "metadata": {
            "tags": []
          },
          "execution_count": 15
        }
      ]
    },
    {
      "cell_type": "markdown",
      "metadata": {
        "id": "T3G6lpvR82mt",
        "colab_type": "text"
      },
      "source": [
        "# Exploratory Data Analysis and Feature Engineering"
      ]
    },
    {
      "cell_type": "code",
      "metadata": {
        "id": "g1q2CeefKrVq",
        "colab_type": "code",
        "outputId": "59fb3097-b757-4cfb-c05d-03533f5405f4",
        "colab": {
          "base_uri": "https://localhost:8080/",
          "height": 343
        }
      },
      "source": [
        "df.sample(5)"
      ],
      "execution_count": 0,
      "outputs": [
        {
          "output_type": "execute_result",
          "data": {
            "text/html": [
              "<div>\n",
              "<style scoped>\n",
              "    .dataframe tbody tr th:only-of-type {\n",
              "        vertical-align: middle;\n",
              "    }\n",
              "\n",
              "    .dataframe tbody tr th {\n",
              "        vertical-align: top;\n",
              "    }\n",
              "\n",
              "    .dataframe thead th {\n",
              "        text-align: right;\n",
              "    }\n",
              "</style>\n",
              "<table border=\"1\" class=\"dataframe\">\n",
              "  <thead>\n",
              "    <tr style=\"text-align: right;\">\n",
              "      <th></th>\n",
              "      <th>id</th>\n",
              "      <th>Umur</th>\n",
              "      <th>Kelas Pekerja</th>\n",
              "      <th>Berat Akhir</th>\n",
              "      <th>Pendidikan</th>\n",
              "      <th>Jmlh Tahun Pendidikan</th>\n",
              "      <th>Status Perkawinan</th>\n",
              "      <th>Pekerjaan</th>\n",
              "      <th>Jenis Kelamin</th>\n",
              "      <th>Keuntungan Kapital</th>\n",
              "      <th>Kerugian Capital</th>\n",
              "      <th>Jam per Minggu</th>\n",
              "      <th>Gaji</th>\n",
              "    </tr>\n",
              "  </thead>\n",
              "  <tbody>\n",
              "    <tr>\n",
              "      <th>33107</th>\n",
              "      <td>37281.0</td>\n",
              "      <td>50.0</td>\n",
              "      <td>Pemerintah Lokal</td>\n",
              "      <td>237868.0</td>\n",
              "      <td>Master</td>\n",
              "      <td>14.0</td>\n",
              "      <td>Menikah</td>\n",
              "      <td>Spesialis</td>\n",
              "      <td>Laki2</td>\n",
              "      <td>0.0</td>\n",
              "      <td>0.0</td>\n",
              "      <td>40.0</td>\n",
              "      <td>0.0</td>\n",
              "    </tr>\n",
              "    <tr>\n",
              "      <th>34542</th>\n",
              "      <td>20528.0</td>\n",
              "      <td>36.0</td>\n",
              "      <td>Wiraswasta</td>\n",
              "      <td>111128.0</td>\n",
              "      <td>SMA</td>\n",
              "      <td>9.0</td>\n",
              "      <td>Berpisah</td>\n",
              "      <td>Perbaikan Kerajinan</td>\n",
              "      <td>Laki2</td>\n",
              "      <td>0.0</td>\n",
              "      <td>0.0</td>\n",
              "      <td>40.0</td>\n",
              "      <td>0.0</td>\n",
              "    </tr>\n",
              "    <tr>\n",
              "      <th>3370</th>\n",
              "      <td>32196.0</td>\n",
              "      <td>19.0</td>\n",
              "      <td>Wiraswasta</td>\n",
              "      <td>355712.0</td>\n",
              "      <td>Pendidikan Tinggi</td>\n",
              "      <td>10.0</td>\n",
              "      <td>Belum Pernah Menikah</td>\n",
              "      <td>Sales</td>\n",
              "      <td>Perempuan</td>\n",
              "      <td>0.0</td>\n",
              "      <td>0.0</td>\n",
              "      <td>25.0</td>\n",
              "      <td>0.0</td>\n",
              "    </tr>\n",
              "    <tr>\n",
              "      <th>2924</th>\n",
              "      <td>30477.0</td>\n",
              "      <td>44.0</td>\n",
              "      <td>Wiraswasta</td>\n",
              "      <td>215304.0</td>\n",
              "      <td>Sarjana</td>\n",
              "      <td>13.0</td>\n",
              "      <td>Menikah</td>\n",
              "      <td>Spesialis</td>\n",
              "      <td>Laki2</td>\n",
              "      <td>0.0</td>\n",
              "      <td>0.0</td>\n",
              "      <td>45.0</td>\n",
              "      <td>1.0</td>\n",
              "    </tr>\n",
              "    <tr>\n",
              "      <th>8831</th>\n",
              "      <td>28799.0</td>\n",
              "      <td>41.0</td>\n",
              "      <td>Wiraswasta</td>\n",
              "      <td>168324.0</td>\n",
              "      <td>Pendidikan Tinggi</td>\n",
              "      <td>10.0</td>\n",
              "      <td>Menikah</td>\n",
              "      <td>Pemuka Agama</td>\n",
              "      <td>Perempuan</td>\n",
              "      <td>0.0</td>\n",
              "      <td>0.0</td>\n",
              "      <td>40.0</td>\n",
              "      <td>1.0</td>\n",
              "    </tr>\n",
              "  </tbody>\n",
              "</table>\n",
              "</div>"
            ],
            "text/plain": [
              "            id  Umur     Kelas Pekerja  ...  Kerugian Capital Jam per Minggu  Gaji\n",
              "33107  37281.0  50.0  Pemerintah Lokal  ...               0.0           40.0   0.0\n",
              "34542  20528.0  36.0        Wiraswasta  ...               0.0           40.0   0.0\n",
              "3370   32196.0  19.0        Wiraswasta  ...               0.0           25.0   0.0\n",
              "2924   30477.0  44.0        Wiraswasta  ...               0.0           45.0   1.0\n",
              "8831   28799.0  41.0        Wiraswasta  ...               0.0           40.0   1.0\n",
              "\n",
              "[5 rows x 13 columns]"
            ]
          },
          "metadata": {
            "tags": []
          },
          "execution_count": 16
        }
      ]
    },
    {
      "cell_type": "code",
      "metadata": {
        "id": "VHjrAWBhC3cH",
        "colab_type": "code",
        "outputId": "d8fd78d4-028c-458c-fc55-0f5416c4909e",
        "colab": {
          "base_uri": "https://localhost:8080/",
          "height": 102
        }
      },
      "source": [
        "df.columns"
      ],
      "execution_count": 0,
      "outputs": [
        {
          "output_type": "execute_result",
          "data": {
            "text/plain": [
              "Index(['id', 'Umur', 'Kelas Pekerja', 'Berat Akhir', 'Pendidikan',\n",
              "       'Jmlh Tahun Pendidikan', 'Status Perkawinan', 'Pekerjaan',\n",
              "       'Jenis Kelamin', 'Keuntungan Kapital', 'Kerugian Capital',\n",
              "       'Jam per Minggu', 'Gaji'],\n",
              "      dtype='object')"
            ]
          },
          "metadata": {
            "tags": []
          },
          "execution_count": 17
        }
      ]
    },
    {
      "cell_type": "markdown",
      "metadata": {
        "id": "DeiACcCH_jlO",
        "colab_type": "text"
      },
      "source": [
        "So this data contain categorical and continous value. Categorical including Jenis kelamin, kelas pekerja, pendidikan, status perkawinan, and pekerjaan. The rest is continous value. I want to inspect this categorical value first"
      ]
    },
    {
      "cell_type": "code",
      "metadata": {
        "id": "ZroAzbyY90AZ",
        "colab_type": "code",
        "outputId": "ff1f68e0-dc07-44d9-f457-7f55f9cb3808",
        "colab": {
          "base_uri": "https://localhost:8080/",
          "height": 382
        }
      },
      "source": [
        "df['Jenis Kelamin'] = np.where(df['Jenis Kelamin'] == 'Laki2', 1, 0)\n",
        "df_test['Jenis Kelamin'] = np.where(df_test['Jenis Kelamin'] == 'Laki2', 1, 0)\n",
        "\n",
        "sns.catplot(x='Gaji', kind='count', hue='Jenis Kelamin', palette='pink', data=df)"
      ],
      "execution_count": 0,
      "outputs": [
        {
          "output_type": "execute_result",
          "data": {
            "text/plain": [
              "<seaborn.axisgrid.FacetGrid at 0x7f363b157240>"
            ]
          },
          "metadata": {
            "tags": []
          },
          "execution_count": 18
        },
        {
          "output_type": "display_data",
          "data": {
            "image/png": "[encoded data removed]",
            "text/plain": [
              "<Figure size 449.175x360 with 1 Axes>"
            ]
          },
          "metadata": {
            "tags": []
          }
        }
      ]
    },
    {
      "cell_type": "markdown",
      "metadata": {
        "id": "A6enhrEyCA8t",
        "colab_type": "text"
      },
      "source": [
        "So I notice that this columns is imbalanced, where people with Gaji <= 5M more than the people with Gaji >= 5M, also Male data is more than Female"
      ]
    },
    {
      "cell_type": "code",
      "metadata": {
        "id": "T0EB2BdrBP6Y",
        "colab_type": "code",
        "outputId": "b1d1e501-71f7-435b-86ad-d8ae98f12d04",
        "colab": {
          "base_uri": "https://localhost:8080/",
          "height": 85
        }
      },
      "source": [
        "df['Kelas Pekerja'].unique()"
      ],
      "execution_count": 0,
      "outputs": [
        {
          "output_type": "execute_result",
          "data": {
            "text/plain": [
              "array(['Pemerintah Negara', 'Wiraswasta', 'Pekerja Bebas Bukan Perusahan',\n",
              "       nan, 'Pemerintah Lokal', 'Pekerja Bebas Perusahaan',\n",
              "       'Pemerintah Provinsi', 'Tanpa di Bayar', 'Tidak Pernah Bekerja'],\n",
              "      dtype=object)"
            ]
          },
          "metadata": {
            "tags": []
          },
          "execution_count": 19
        }
      ]
    },
    {
      "cell_type": "code",
      "metadata": {
        "id": "Kom6iM3CGnOw",
        "colab_type": "code",
        "outputId": "dd1f3579-fe85-42a0-c11a-d8f49a304a17",
        "colab": {
          "base_uri": "https://localhost:8080/",
          "height": 85
        }
      },
      "source": [
        "df['Pekerjaan'].unique()"
      ],
      "execution_count": 0,
      "outputs": [
        {
          "output_type": "execute_result",
          "data": {
            "text/plain": [
              "array(['Ekesekutif Managerial', 'Servis Lainnya', 'Pembersih', 'Supir',\n",
              "       'Sales', 'Perbaikan Kerajinan', nan, 'Tech-support',\n",
              "       'Pemuka Agama', 'Spesialis', 'Mesin Inspeksi', 'Petani', 'Penjaga',\n",
              "       'Asisten Rumah Tangga', 'Tentara'], dtype=object)"
            ]
          },
          "metadata": {
            "tags": []
          },
          "execution_count": 20
        }
      ]
    },
    {
      "cell_type": "code",
      "metadata": {
        "id": "DLIVEASuDHLw",
        "colab_type": "code",
        "outputId": "e9502981-d35c-404d-8f08-bb42204f17bf",
        "colab": {
          "base_uri": "https://localhost:8080/",
          "height": 513
        }
      },
      "source": [
        "plt.figure(figsize=(12, 12))\n",
        "sns.catplot(x='Gaji', kind='count', col='Kelas Pekerja', col_wrap=4, data=df)"
      ],
      "execution_count": 0,
      "outputs": [
        {
          "output_type": "execute_result",
          "data": {
            "text/plain": [
              "<seaborn.axisgrid.FacetGrid at 0x7f3645b6a080>"
            ]
          },
          "metadata": {
            "tags": []
          },
          "execution_count": 21
        },
        {
          "output_type": "display_data",
          "data": {
            "text/plain": [
              "<Figure size 864x864 with 0 Axes>"
            ]
          },
          "metadata": {
            "tags": []
          }
        },
        {
          "output_type": "display_data",
          "data": {
            "image/png": "[encoded data removed]",
            "text/plain": [
              "<Figure size 1440x720 with 8 Axes>"
            ]
          },
          "metadata": {
            "tags": []
          }
        }
      ]
    },
    {
      "cell_type": "markdown",
      "metadata": {
        "id": "ygWa6sIOKLmN",
        "colab_type": "text"
      },
      "source": [
        "Here I decided to use Kelas Pekerja to make our data more general, because if we make model that takes specialize job title, it'll hard to predict the job salary that that the model never see the title before, so I think that by using more general term aka Kelas Pekerja it's possible for model to predict job salary for any job, because it's still has same class aka Kelas Pekerja nya masih sama.\n",
        "Also if I one hot encoded Pekerjaan, it'll increasing a lot of the dimensionality, and there is a curse of high dimensionality :D\n",
        "\n",
        "Here I wanna categorize the Kelas Pekerja column into 4 category:\n",
        "1. Pemerintah = Pemerintah Negara, Lokal and Provinsi\n",
        "2. Wiraswasta (because it's the largest class)\n",
        "3. Freelance = Pekerja lepas perusahaan and bukan perusahaan\n",
        "4. Not work = Tanpa bayaran and Tidak bekerja\n",
        "\n",
        "Then I'll one hot encode that later in data cleaning"
      ]
    },
    {
      "cell_type": "code",
      "metadata": {
        "id": "Bszsxv_uFo7D",
        "colab_type": "code",
        "outputId": "f57d8711-b1d4-4769-88d6-44f1d32b8566",
        "colab": {
          "base_uri": "https://localhost:8080/",
          "height": 51
        }
      },
      "source": [
        "mapping = {\n",
        "    'Pemerintah Negara': 'Pemerintah',\n",
        "    'Pekerja Bebas Bukan Perusahan': 'Freelance',\n",
        "    'Pemerintah Lokal': 'Pemerintah',\n",
        "    'Pekerja Bebas Perusahaan': 'Freelance',\n",
        "    'Pemerintah Provinsi': 'Pemerintah',\n",
        "    'Tanpa di Bayar': 'Tidak bekerja',\n",
        "    'Tidak Pernah Bekerja': 'Tidak bekerja',\n",
        "    'Wiraswasta': 'Wiraswasta',\n",
        "    np.nan : np.nan,\n",
        "}\n",
        "df['Kelas Pekerja Map'] = df['Kelas Pekerja'].map(mapping)\n",
        "df['Kelas Pekerja Map'].unique()"
      ],
      "execution_count": 0,
      "outputs": [
        {
          "output_type": "execute_result",
          "data": {
            "text/plain": [
              "array(['Pemerintah', 'Wiraswasta', 'Freelance', nan, 'Tidak bekerja'],\n",
              "      dtype=object)"
            ]
          },
          "metadata": {
            "tags": []
          },
          "execution_count": 22
        }
      ]
    },
    {
      "cell_type": "code",
      "metadata": {
        "id": "-PGdZ9s3UoqU",
        "colab_type": "code",
        "colab": {}
      },
      "source": [
        "df.drop(['Kelas Pekerja', 'Pekerjaan'], axis=1, inplace=True)"
      ],
      "execution_count": 0,
      "outputs": []
    },
    {
      "cell_type": "code",
      "metadata": {
        "id": "_vCEpCpkeYz6",
        "colab_type": "code",
        "outputId": "ae8431bf-5f7b-4d57-fd92-40db4c86119e",
        "colab": {
          "base_uri": "https://localhost:8080/",
          "height": 51
        }
      },
      "source": [
        "#Do the same with test dataset\n",
        "df_test['Kelas Pekerja Map'] = df_test['Kelas Pekerja'].map(mapping)\n",
        "df_test.drop(['Kelas Pekerja', 'Pekerjaan'], axis=1, inplace=True)\n",
        "\n",
        "df_test['Kelas Pekerja Map'].unique()"
      ],
      "execution_count": 0,
      "outputs": [
        {
          "output_type": "execute_result",
          "data": {
            "text/plain": [
              "array(['Pemerintah', 'Wiraswasta', nan, 'Freelance', 'Tidak bekerja'],\n",
              "      dtype=object)"
            ]
          },
          "metadata": {
            "tags": []
          },
          "execution_count": 24
        }
      ]
    },
    {
      "cell_type": "code",
      "metadata": {
        "id": "3sYderOrVQAd",
        "colab_type": "code",
        "outputId": "489ff681-18bb-4fa2-90f8-fe92588da27e",
        "colab": {
          "base_uri": "https://localhost:8080/",
          "height": 51
        }
      },
      "source": [
        "df['Status Perkawinan'].unique()"
      ],
      "execution_count": 0,
      "outputs": [
        {
          "output_type": "execute_result",
          "data": {
            "text/plain": [
              "array(['Menikah', 'Cerai', 'Belum Pernah Menikah', 'Berpisah',\n",
              "       'Menikah LDR', 'Janda'], dtype=object)"
            ]
          },
          "metadata": {
            "tags": []
          },
          "execution_count": 25
        }
      ]
    },
    {
      "cell_type": "markdown",
      "metadata": {
        "id": "xOSJkCVfYCZU",
        "colab_type": "text"
      },
      "source": [
        "There are inconsistency in the value Cerai, Berpisah and Janda is mean the same, also Menikah and Menikah LDR is just the same. I'll map it again into just 2 columns Menikah, Berpisah and Belum pernah menikah"
      ]
    },
    {
      "cell_type": "code",
      "metadata": {
        "id": "TWxjwNviVtcD",
        "colab_type": "code",
        "outputId": "ef667759-40f9-486a-f115-ef452447021e",
        "colab": {
          "base_uri": "https://localhost:8080/",
          "height": 666
        }
      },
      "source": [
        "plt.figure(figsize=(8, 8))\n",
        "sns.catplot(x='Gaji', kind='count', col='Status Perkawinan', col_wrap=3, data=df)"
      ],
      "execution_count": 0,
      "outputs": [
        {
          "output_type": "execute_result",
          "data": {
            "text/plain": [
              "<seaborn.axisgrid.FacetGrid at 0x7f363b144ef0>"
            ]
          },
          "metadata": {
            "tags": []
          },
          "execution_count": 26
        },
        {
          "output_type": "display_data",
          "data": {
            "text/plain": [
              "<Figure size 576x576 with 0 Axes>"
            ]
          },
          "metadata": {
            "tags": []
          }
        },
        {
          "output_type": "display_data",
          "data": {
            "image/png": "[encoded data removed]",
            "text/plain": [
              "<Figure size 1080x720 with 6 Axes>"
            ]
          },
          "metadata": {
            "tags": []
          }
        }
      ]
    },
    {
      "cell_type": "code",
      "metadata": {
        "id": "SYhskWqTXvWe",
        "colab_type": "code",
        "outputId": "94f37d43-83d2-409e-dcee-9f792f65926b",
        "colab": {
          "base_uri": "https://localhost:8080/",
          "height": 34
        }
      },
      "source": [
        "mapp = {\n",
        "    'Menikah' : 'Menikah',\n",
        "    'Cerai' : 'Berpisah',\n",
        "    'Belum Pernah Menikah' : 'Belum pernah menikah',\n",
        "    'Berpisah' : 'Berpisah',\n",
        "    'Menikah LDR' : 'Menikah',\n",
        "    'Janda' : 'Berpisah',\n",
        "}\n",
        "df['Status Perkawinan Map'] = df['Status Perkawinan'].map(mapp)\n",
        "df.drop(['Status Perkawinan'], axis=1, inplace=True)\n",
        "\n",
        "df['Status Perkawinan Map'].unique()"
      ],
      "execution_count": 0,
      "outputs": [
        {
          "output_type": "execute_result",
          "data": {
            "text/plain": [
              "array(['Menikah', 'Berpisah', 'Belum pernah menikah'], dtype=object)"
            ]
          },
          "metadata": {
            "tags": []
          },
          "execution_count": 27
        }
      ]
    },
    {
      "cell_type": "code",
      "metadata": {
        "id": "d2aHImgzezYI",
        "colab_type": "code",
        "outputId": "332b2d2a-e2aa-4f87-b5e2-909f0c89cedd",
        "colab": {
          "base_uri": "https://localhost:8080/",
          "height": 34
        }
      },
      "source": [
        "#Do the same in test data\n",
        "df_test['Status Perkawinan Map'] = df_test['Status Perkawinan'].map(mapp)\n",
        "df_test.drop(['Status Perkawinan'], axis=1, inplace=True)\n",
        "\n",
        "df_test['Status Perkawinan Map'].unique()"
      ],
      "execution_count": 0,
      "outputs": [
        {
          "output_type": "execute_result",
          "data": {
            "text/plain": [
              "array(['Berpisah', 'Menikah', 'Belum pernah menikah'], dtype=object)"
            ]
          },
          "metadata": {
            "tags": []
          },
          "execution_count": 28
        }
      ]
    },
    {
      "cell_type": "code",
      "metadata": {
        "id": "uqo37_fAZPrc",
        "colab_type": "code",
        "outputId": "28992641-208e-4ea1-dfb3-c97bcab63192",
        "colab": {
          "base_uri": "https://localhost:8080/",
          "height": 68
        }
      },
      "source": [
        "df['Pendidikan'].unique()"
      ],
      "execution_count": 0,
      "outputs": [
        {
          "output_type": "execute_result",
          "data": {
            "text/plain": [
              "array(['Master', 'SMA', 'Sarjana', '10th', 'Pendidikan Tinggi', '11th',\n",
              "       'D4', 'D3', 'Sekolah Professional', '9th', '7th-8th', 'Doktor',\n",
              "       '1st-4th', '5th-6th', '12th', 'SD'], dtype=object)"
            ]
          },
          "metadata": {
            "tags": []
          },
          "execution_count": 29
        }
      ]
    },
    {
      "cell_type": "code",
      "metadata": {
        "id": "H3J2GEZ_Zmp8",
        "colab_type": "code",
        "outputId": "84326b7b-d831-4461-f159-753bedd1e9f2",
        "colab": {
          "base_uri": "https://localhost:8080/",
          "height": 359
        }
      },
      "source": [
        "df[['Pendidikan', 'Jmlh Tahun Pendidikan']].sample(10)"
      ],
      "execution_count": 0,
      "outputs": [
        {
          "output_type": "execute_result",
          "data": {
            "text/html": [
              "<div>\n",
              "<style scoped>\n",
              "    .dataframe tbody tr th:only-of-type {\n",
              "        vertical-align: middle;\n",
              "    }\n",
              "\n",
              "    .dataframe tbody tr th {\n",
              "        vertical-align: top;\n",
              "    }\n",
              "\n",
              "    .dataframe thead th {\n",
              "        text-align: right;\n",
              "    }\n",
              "</style>\n",
              "<table border=\"1\" class=\"dataframe\">\n",
              "  <thead>\n",
              "    <tr style=\"text-align: right;\">\n",
              "      <th></th>\n",
              "      <th>Pendidikan</th>\n",
              "      <th>Jmlh Tahun Pendidikan</th>\n",
              "    </tr>\n",
              "  </thead>\n",
              "  <tbody>\n",
              "    <tr>\n",
              "      <th>29684</th>\n",
              "      <td>Sarjana</td>\n",
              "      <td>13.0</td>\n",
              "    </tr>\n",
              "    <tr>\n",
              "      <th>15394</th>\n",
              "      <td>D4</td>\n",
              "      <td>11.0</td>\n",
              "    </tr>\n",
              "    <tr>\n",
              "      <th>25932</th>\n",
              "      <td>Sarjana</td>\n",
              "      <td>13.0</td>\n",
              "    </tr>\n",
              "    <tr>\n",
              "      <th>2279</th>\n",
              "      <td>12th</td>\n",
              "      <td>8.0</td>\n",
              "    </tr>\n",
              "    <tr>\n",
              "      <th>16374</th>\n",
              "      <td>SMA</td>\n",
              "      <td>9.0</td>\n",
              "    </tr>\n",
              "    <tr>\n",
              "      <th>22644</th>\n",
              "      <td>SMA</td>\n",
              "      <td>9.0</td>\n",
              "    </tr>\n",
              "    <tr>\n",
              "      <th>37643</th>\n",
              "      <td>Sarjana</td>\n",
              "      <td>13.0</td>\n",
              "    </tr>\n",
              "    <tr>\n",
              "      <th>28144</th>\n",
              "      <td>SMA</td>\n",
              "      <td>9.0</td>\n",
              "    </tr>\n",
              "    <tr>\n",
              "      <th>31764</th>\n",
              "      <td>11th</td>\n",
              "      <td>7.0</td>\n",
              "    </tr>\n",
              "    <tr>\n",
              "      <th>13967</th>\n",
              "      <td>SMA</td>\n",
              "      <td>9.0</td>\n",
              "    </tr>\n",
              "  </tbody>\n",
              "</table>\n",
              "</div>"
            ],
            "text/plain": [
              "      Pendidikan  Jmlh Tahun Pendidikan\n",
              "29684    Sarjana                   13.0\n",
              "15394         D4                   11.0\n",
              "25932    Sarjana                   13.0\n",
              "2279        12th                    8.0\n",
              "16374        SMA                    9.0\n",
              "22644        SMA                    9.0\n",
              "37643    Sarjana                   13.0\n",
              "28144        SMA                    9.0\n",
              "31764       11th                    7.0\n",
              "13967        SMA                    9.0"
            ]
          },
          "metadata": {
            "tags": []
          },
          "execution_count": 30
        }
      ]
    },
    {
      "cell_type": "markdown",
      "metadata": {
        "id": "ntnGgFGbbl6S",
        "colab_type": "text"
      },
      "source": [
        "I confused with what is '1st-4th', '5th-6th', '9th', '7th-8th', '12th' means. I think that it's a grade, so 9th grade equal SMP kelas 3, which is 9th year of school respectively, but the columns Tahun show it's 5 year of study, which means only SD kelas 5.\n",
        "\n",
        "Gonna check the correlation with Gaji"
      ]
    },
    {
      "cell_type": "code",
      "metadata": {
        "id": "qyEkNcudZ1BE",
        "colab_type": "code",
        "outputId": "b4b237f3-25eb-496a-fa94-323d6ff91486",
        "colab": {
          "base_uri": "https://localhost:8080/",
          "height": 725
        }
      },
      "source": [
        "sns.catplot(x='Gaji', kind='count', hue='Pendidikan', data=df, height=10)\n",
        "plt.show()"
      ],
      "execution_count": 0,
      "outputs": [
        {
          "output_type": "display_data",
          "data": {
            "image/png": "[encoded data removed]",
            "text/plain": [
              "<Figure size 873.225x720 with 1 Axes>"
            ]
          },
          "metadata": {
            "tags": []
          }
        }
      ]
    },
    {
      "cell_type": "code",
      "metadata": {
        "id": "ZpUEOT-lcP9E",
        "colab_type": "code",
        "outputId": "d8eb56b4-4886-41a9-ace0-9b495397ed20",
        "colab": {
          "base_uri": "https://localhost:8080/",
          "height": 365
        }
      },
      "source": [
        "sns.lmplot('Jmlh Tahun Pendidikan', 'Gaji', palette='inferno_r', data=df)\n",
        "plt.show()"
      ],
      "execution_count": 0,
      "outputs": [
        {
          "output_type": "display_data",
          "data": {
            "image/png": "[encoded data removed]",
            "text/plain": [
              "<Figure size 360x360 with 1 Axes>"
            ]
          },
          "metadata": {
            "tags": []
          }
        }
      ]
    },
    {
      "cell_type": "markdown",
      "metadata": {
        "id": "0BFYK19gdAso",
        "colab_type": "text"
      },
      "source": [
        "It's clear that the years of study positively correlated with the amount of salary, I decided to not using Pendidikan column, because it's categorical that hard to encode, also there are some inconsitency with years of study, so I am just using Tahun pendidikan "
      ]
    },
    {
      "cell_type": "markdown",
      "metadata": {
        "id": "9FKUGXXyfqSf",
        "colab_type": "text"
      },
      "source": [
        "Now lets move on Numerical values, first gonna check the correlation"
      ]
    },
    {
      "cell_type": "code",
      "metadata": {
        "id": "2sW0AvbrclFr",
        "colab_type": "code",
        "outputId": "a8ca4bc7-da12-454e-a890-cf157f7d69d5",
        "colab": {
          "base_uri": "https://localhost:8080/",
          "height": 779
        }
      },
      "source": [
        "plt.figure(figsize=(12, 12))\n",
        "sns.heatmap(df.corr(), square=True, annot=True)"
      ],
      "execution_count": 0,
      "outputs": [
        {
          "output_type": "execute_result",
          "data": {
            "text/plain": [
              "<matplotlib.axes._subplots.AxesSubplot at 0x7f3637de1ef0>"
            ]
          },
          "metadata": {
            "tags": []
          },
          "execution_count": 33
        },
        {
          "output_type": "display_data",
          "data": {
            "image/png": "[encoded data removed]",
            "text/plain": [
              "<Figure size 864x864 with 2 Axes>"
            ]
          },
          "metadata": {
            "tags": []
          }
        }
      ]
    },
    {
      "cell_type": "code",
      "metadata": {
        "id": "M6XQthjlab7U",
        "colab_type": "code",
        "outputId": "aee005af-c3d2-473d-a125-e86b1b17a9e5",
        "colab": {
          "base_uri": "https://localhost:8080/",
          "height": 187
        }
      },
      "source": [
        "df.corr()['Gaji'].sort_values(ascending=False)"
      ],
      "execution_count": 0,
      "outputs": [
        {
          "output_type": "execute_result",
          "data": {
            "text/plain": [
              "Gaji                     1.000000\n",
              "Jmlh Tahun Pendidikan    0.333691\n",
              "Umur                     0.231462\n",
              "Jam per Minggu           0.224611\n",
              "Keuntungan Kapital       0.223230\n",
              "Jenis Kelamin            0.211371\n",
              "Kerugian Capital         0.145710\n",
              "Berat Akhir             -0.003956\n",
              "id                      -0.005507\n",
              "Name: Gaji, dtype: float64"
            ]
          },
          "metadata": {
            "tags": []
          },
          "execution_count": 34
        }
      ]
    },
    {
      "cell_type": "code",
      "metadata": {
        "id": "oCiAufAvf3wF",
        "colab_type": "code",
        "outputId": "3b7530ce-14a0-47c0-f92b-d359e84cdb1f",
        "colab": {
          "base_uri": "https://localhost:8080/",
          "height": 433
        }
      },
      "source": [
        "df.describe().apply(lambda s: s.apply(lambda x: format(x, 'f'))).transpose()"
      ],
      "execution_count": 0,
      "outputs": [
        {
          "output_type": "execute_result",
          "data": {
            "text/html": [
              "<div>\n",
              "<style scoped>\n",
              "    .dataframe tbody tr th:only-of-type {\n",
              "        vertical-align: middle;\n",
              "    }\n",
              "\n",
              "    .dataframe tbody tr th {\n",
              "        vertical-align: top;\n",
              "    }\n",
              "\n",
              "    .dataframe thead th {\n",
              "        text-align: right;\n",
              "    }\n",
              "</style>\n",
              "<table border=\"1\" class=\"dataframe\">\n",
              "  <thead>\n",
              "    <tr style=\"text-align: right;\">\n",
              "      <th></th>\n",
              "      <th>count</th>\n",
              "      <th>mean</th>\n",
              "      <th>std</th>\n",
              "      <th>min</th>\n",
              "      <th>25%</th>\n",
              "      <th>50%</th>\n",
              "      <th>75%</th>\n",
              "      <th>max</th>\n",
              "    </tr>\n",
              "  </thead>\n",
              "  <tbody>\n",
              "    <tr>\n",
              "      <th>id</th>\n",
              "      <td>38393.000000</td>\n",
              "      <td>24015.248535</td>\n",
              "      <td>13872.059919</td>\n",
              "      <td>0.000000</td>\n",
              "      <td>11989.000000</td>\n",
              "      <td>24050.000000</td>\n",
              "      <td>36031.000000</td>\n",
              "      <td>47991.000000</td>\n",
              "    </tr>\n",
              "    <tr>\n",
              "      <th>Umur</th>\n",
              "      <td>38393.000000</td>\n",
              "      <td>38.673925</td>\n",
              "      <td>13.694678</td>\n",
              "      <td>17.000000</td>\n",
              "      <td>28.000000</td>\n",
              "      <td>37.000000</td>\n",
              "      <td>48.000000</td>\n",
              "      <td>90.000000</td>\n",
              "    </tr>\n",
              "    <tr>\n",
              "      <th>Berat Akhir</th>\n",
              "      <td>38393.000000</td>\n",
              "      <td>189723.756284</td>\n",
              "      <td>105576.445288</td>\n",
              "      <td>12285.000000</td>\n",
              "      <td>117751.000000</td>\n",
              "      <td>178385.000000</td>\n",
              "      <td>237630.000000</td>\n",
              "      <td>1490400.000000</td>\n",
              "    </tr>\n",
              "    <tr>\n",
              "      <th>Jmlh Tahun Pendidikan</th>\n",
              "      <td>38393.000000</td>\n",
              "      <td>10.082828</td>\n",
              "      <td>2.574543</td>\n",
              "      <td>1.000000</td>\n",
              "      <td>9.000000</td>\n",
              "      <td>10.000000</td>\n",
              "      <td>12.000000</td>\n",
              "      <td>16.000000</td>\n",
              "    </tr>\n",
              "    <tr>\n",
              "      <th>Jenis Kelamin</th>\n",
              "      <td>38393.000000</td>\n",
              "      <td>0.669601</td>\n",
              "      <td>0.470363</td>\n",
              "      <td>0.000000</td>\n",
              "      <td>0.000000</td>\n",
              "      <td>1.000000</td>\n",
              "      <td>1.000000</td>\n",
              "      <td>1.000000</td>\n",
              "    </tr>\n",
              "    <tr>\n",
              "      <th>Keuntungan Kapital</th>\n",
              "      <td>38393.000000</td>\n",
              "      <td>15186589.065715</td>\n",
              "      <td>104437326.454833</td>\n",
              "      <td>0.000000</td>\n",
              "      <td>0.000000</td>\n",
              "      <td>0.000000</td>\n",
              "      <td>0.000000</td>\n",
              "      <td>1399986000.000000</td>\n",
              "    </tr>\n",
              "    <tr>\n",
              "      <th>Kerugian Capital</th>\n",
              "      <td>38393.000000</td>\n",
              "      <td>1212665.173339</td>\n",
              "      <td>5613944.895757</td>\n",
              "      <td>0.000000</td>\n",
              "      <td>0.000000</td>\n",
              "      <td>0.000000</td>\n",
              "      <td>0.000000</td>\n",
              "      <td>60984000.000000</td>\n",
              "    </tr>\n",
              "    <tr>\n",
              "      <th>Jam per Minggu</th>\n",
              "      <td>38393.000000</td>\n",
              "      <td>40.440627</td>\n",
              "      <td>12.382695</td>\n",
              "      <td>1.000000</td>\n",
              "      <td>40.000000</td>\n",
              "      <td>40.000000</td>\n",
              "      <td>45.000000</td>\n",
              "      <td>99.000000</td>\n",
              "    </tr>\n",
              "    <tr>\n",
              "      <th>Gaji</th>\n",
              "      <td>38393.000000</td>\n",
              "      <td>0.239497</td>\n",
              "      <td>0.426782</td>\n",
              "      <td>0.000000</td>\n",
              "      <td>0.000000</td>\n",
              "      <td>0.000000</td>\n",
              "      <td>0.000000</td>\n",
              "      <td>1.000000</td>\n",
              "    </tr>\n",
              "  </tbody>\n",
              "</table>\n",
              "</div>"
            ],
            "text/plain": [
              "                              count  ...                max\n",
              "id                     38393.000000  ...       47991.000000\n",
              "Umur                   38393.000000  ...          90.000000\n",
              "Berat Akhir            38393.000000  ...     1490400.000000\n",
              "Jmlh Tahun Pendidikan  38393.000000  ...          16.000000\n",
              "Jenis Kelamin          38393.000000  ...           1.000000\n",
              "Keuntungan Kapital     38393.000000  ...  1399986000.000000\n",
              "Kerugian Capital       38393.000000  ...    60984000.000000\n",
              "Jam per Minggu         38393.000000  ...          99.000000\n",
              "Gaji                   38393.000000  ...           1.000000\n",
              "\n",
              "[9 rows x 8 columns]"
            ]
          },
          "metadata": {
            "tags": []
          },
          "execution_count": 35
        }
      ]
    },
    {
      "cell_type": "markdown",
      "metadata": {
        "id": "WFZtmITwqmHB",
        "colab_type": "text"
      },
      "source": [
        "Standard Deviation for Berat Akhir, Keuntungan Kapital and Kerugian Kapital is so large, consider doing some scaling in data cleanng section. Because I cant remove it, it's give some value to our data"
      ]
    },
    {
      "cell_type": "code",
      "metadata": {
        "id": "vn6BtkVRgx-t",
        "colab_type": "code",
        "outputId": "6bf825cb-7b13-4228-9449-2eed8a75a488",
        "colab": {
          "base_uri": "https://localhost:8080/",
          "height": 519
        }
      },
      "source": [
        "plt.figure(figsize=(12, 8))\n",
        "sns.distplot(df['Jmlh Tahun Pendidikan'])"
      ],
      "execution_count": 0,
      "outputs": [
        {
          "output_type": "execute_result",
          "data": {
            "text/plain": [
              "<matplotlib.axes._subplots.AxesSubplot at 0x7f3637cd4860>"
            ]
          },
          "metadata": {
            "tags": []
          },
          "execution_count": 36
        },
        {
          "output_type": "display_data",
          "data": {
            "image/png": "[encoded data removed]",
            "text/plain": [
              "<Figure size 864x576 with 1 Axes>"
            ]
          },
          "metadata": {
            "tags": []
          }
        }
      ]
    },
    {
      "cell_type": "code",
      "metadata": {
        "id": "qjvJ5gHhg4XT",
        "colab_type": "code",
        "outputId": "0e844591-fc18-4d7f-f253-57795c50e201",
        "colab": {
          "base_uri": "https://localhost:8080/",
          "height": 356
        }
      },
      "source": [
        "plt.figure(figsize=(12, 5))\n",
        "sns.boxplot(x='Jmlh Tahun Pendidikan', y='Gaji', hue='Jenis Kelamin', data=df, orient='h', palette='colorblind')"
      ],
      "execution_count": 0,
      "outputs": [
        {
          "output_type": "execute_result",
          "data": {
            "text/plain": [
              "<matplotlib.axes._subplots.AxesSubplot at 0x7f363ace3c18>"
            ]
          },
          "metadata": {
            "tags": []
          },
          "execution_count": 37
        },
        {
          "output_type": "display_data",
          "data": {
            "image/png": "[encoded data removed]",
            "text/plain": [
              "<Figure size 864x360 with 1 Axes>"
            ]
          },
          "metadata": {
            "tags": []
          }
        }
      ]
    },
    {
      "cell_type": "markdown",
      "metadata": {
        "id": "b5l_IxUSh1do",
        "colab_type": "text"
      },
      "source": [
        "It's clear that more years of study resulted in higher salary, no matter the gender. Also there are some outliers, but I think it's not much, so we can go with that"
      ]
    },
    {
      "cell_type": "code",
      "metadata": {
        "id": "-OX_jBjQhkuV",
        "colab_type": "code",
        "outputId": "665addd0-2d2e-433d-b4e4-21f5420ef1ba",
        "colab": {
          "base_uri": "https://localhost:8080/",
          "height": 302
        }
      },
      "source": [
        "sns.distplot(df.Umur)"
      ],
      "execution_count": 0,
      "outputs": [
        {
          "output_type": "execute_result",
          "data": {
            "text/plain": [
              "<matplotlib.axes._subplots.AxesSubplot at 0x7f36379cd7b8>"
            ]
          },
          "metadata": {
            "tags": []
          },
          "execution_count": 38
        },
        {
          "output_type": "display_data",
          "data": {
            "image/png": "[encoded data removed]",
            "text/plain": [
              "<Figure size 432x288 with 1 Axes>"
            ]
          },
          "metadata": {
            "tags": []
          }
        }
      ]
    },
    {
      "cell_type": "markdown",
      "metadata": {
        "id": "KV5Onkcgi2qx",
        "colab_type": "text"
      },
      "source": [
        "It's right skewed, but since there is no missing value on that, it's nothing I can do about it"
      ]
    },
    {
      "cell_type": "code",
      "metadata": {
        "id": "CmRIah2UtReE",
        "colab_type": "code",
        "outputId": "9cfb9598-48fe-40b0-bf92-7d3fab1fee0e",
        "colab": {
          "base_uri": "https://localhost:8080/",
          "height": 382
        }
      },
      "source": [
        "sns.lmplot(x='Umur', y='Gaji', hue='Jenis Kelamin', palette='inferno_r', data=df)"
      ],
      "execution_count": 0,
      "outputs": [
        {
          "output_type": "execute_result",
          "data": {
            "text/plain": [
              "<seaborn.axisgrid.FacetGrid at 0x7f3637906128>"
            ]
          },
          "metadata": {
            "tags": []
          },
          "execution_count": 39
        },
        {
          "output_type": "display_data",
          "data": {
            "image/png": "[encoded data removed]",
            "text/plain": [
              "<Figure size 449.175x360 with 1 Axes>"
            ]
          },
          "metadata": {
            "tags": []
          }
        }
      ]
    },
    {
      "cell_type": "markdown",
      "metadata": {
        "id": "t99J0NlzjiSi",
        "colab_type": "text"
      },
      "source": [
        "Also it's clearly indicates that older you are, higher your salary, it's related with experience of that person, no matter the gender, but it seems that male still have higher salary"
      ]
    },
    {
      "cell_type": "code",
      "metadata": {
        "id": "_zy2BUuysO8M",
        "colab_type": "code",
        "outputId": "9ad2b092-792d-4396-947f-f29eaa273143",
        "colab": {
          "base_uri": "https://localhost:8080/",
          "height": 302
        }
      },
      "source": [
        "sns.distplot(df['Jam per Minggu'])"
      ],
      "execution_count": 0,
      "outputs": [
        {
          "output_type": "execute_result",
          "data": {
            "text/plain": [
              "<matplotlib.axes._subplots.AxesSubplot at 0x7f3637856860>"
            ]
          },
          "metadata": {
            "tags": []
          },
          "execution_count": 40
        },
        {
          "output_type": "display_data",
          "data": {
            "image/png": "[encoded data removed]",
            "text/plain": [
              "<Figure size 432x288 with 1 Axes>"
            ]
          },
          "metadata": {
            "tags": []
          }
        }
      ]
    },
    {
      "cell_type": "code",
      "metadata": {
        "id": "UIJOTDBOigIQ",
        "colab_type": "code",
        "outputId": "ce604b3e-7475-49b6-a3fe-2673075e0718",
        "colab": {
          "base_uri": "https://localhost:8080/",
          "height": 356
        }
      },
      "source": [
        "plt.figure(figsize=(12, 5))\n",
        "sns.boxplot(x='Jam per Minggu', y='Gaji', hue='Jenis Kelamin', data=df, orient='h', palette='colorblind')"
      ],
      "execution_count": 0,
      "outputs": [
        {
          "output_type": "execute_result",
          "data": {
            "text/plain": [
              "<matplotlib.axes._subplots.AxesSubplot at 0x7f3634ea23c8>"
            ]
          },
          "metadata": {
            "tags": []
          },
          "execution_count": 41
        },
        {
          "output_type": "display_data",
          "data": {
            "image/png": "[encoded data removed]",
            "text/plain": [
              "<Figure size 864x360 with 1 Axes>"
            ]
          },
          "metadata": {
            "tags": []
          }
        }
      ]
    },
    {
      "cell_type": "markdown",
      "metadata": {
        "id": "0nhnBGx2-Q2R",
        "colab_type": "text"
      },
      "source": [
        "That is so many outliers, but I still think it's OK because most people is Wiraswasta, so their working time is vary a lot, and it's matter for prediction because more time they spend for work, higher the salary they got"
      ]
    },
    {
      "cell_type": "code",
      "metadata": {
        "id": "tEfLi7UprH3O",
        "colab_type": "code",
        "outputId": "c705ed6f-1c3d-4160-8359-6ac7075e6abe",
        "colab": {
          "base_uri": "https://localhost:8080/",
          "height": 85
        }
      },
      "source": [
        "df.columns"
      ],
      "execution_count": 0,
      "outputs": [
        {
          "output_type": "execute_result",
          "data": {
            "text/plain": [
              "Index(['id', 'Umur', 'Berat Akhir', 'Pendidikan', 'Jmlh Tahun Pendidikan',\n",
              "       'Jenis Kelamin', 'Keuntungan Kapital', 'Kerugian Capital',\n",
              "       'Jam per Minggu', 'Gaji', 'Kelas Pekerja Map', 'Status Perkawinan Map'],\n",
              "      dtype='object')"
            ]
          },
          "metadata": {
            "tags": []
          },
          "execution_count": 43
        }
      ]
    },
    {
      "cell_type": "code",
      "metadata": {
        "id": "ss87kvllrKqp",
        "colab_type": "code",
        "colab": {}
      },
      "source": [
        "df.drop(['id', 'Pendidikan'], axis=1, inplace=True)\n",
        "df_test.drop(['id', 'Pendidikan'], axis=1, inplace=True)"
      ],
      "execution_count": 0,
      "outputs": []
    },
    {
      "cell_type": "code",
      "metadata": {
        "id": "5u70CpKyrbKt",
        "colab_type": "code",
        "colab": {}
      },
      "source": [
        "df[['Berat Akhir', 'Keuntungan Kapital', 'Kerugian Capital']] = StandardScaler().fit_transform(df[['Berat Akhir', 'Keuntungan Kapital', 'Kerugian Capital']])\n",
        "df_test[['Berat Akhir', 'Keuntungan Kapital', 'Kerugian Capital']] = StandardScaler().fit_transform(df_test[['Berat Akhir', 'Keuntungan Kapital', 'Kerugian Capital']])"
      ],
      "execution_count": 0,
      "outputs": []
    },
    {
      "cell_type": "code",
      "metadata": {
        "id": "lUWw-Ce7rzMv",
        "colab_type": "code",
        "outputId": "89ef95dc-68d9-45f2-ea1d-4afc92867092",
        "colab": {
          "base_uri": "https://localhost:8080/",
          "height": 297
        }
      },
      "source": [
        "df.describe().transpose()"
      ],
      "execution_count": 0,
      "outputs": [
        {
          "output_type": "execute_result",
          "data": {
            "text/html": [
              "<div>\n",
              "<style scoped>\n",
              "    .dataframe tbody tr th:only-of-type {\n",
              "        vertical-align: middle;\n",
              "    }\n",
              "\n",
              "    .dataframe tbody tr th {\n",
              "        vertical-align: top;\n",
              "    }\n",
              "\n",
              "    .dataframe thead th {\n",
              "        text-align: right;\n",
              "    }\n",
              "</style>\n",
              "<table border=\"1\" class=\"dataframe\">\n",
              "  <thead>\n",
              "    <tr style=\"text-align: right;\">\n",
              "      <th></th>\n",
              "      <th>count</th>\n",
              "      <th>mean</th>\n",
              "      <th>std</th>\n",
              "      <th>min</th>\n",
              "      <th>25%</th>\n",
              "      <th>50%</th>\n",
              "      <th>75%</th>\n",
              "      <th>max</th>\n",
              "    </tr>\n",
              "  </thead>\n",
              "  <tbody>\n",
              "    <tr>\n",
              "      <th>Umur</th>\n",
              "      <td>38393.0</td>\n",
              "      <td>3.867392e+01</td>\n",
              "      <td>13.694678</td>\n",
              "      <td>17.000000</td>\n",
              "      <td>28.000000</td>\n",
              "      <td>37.000000</td>\n",
              "      <td>48.000000</td>\n",
              "      <td>90.000000</td>\n",
              "    </tr>\n",
              "    <tr>\n",
              "      <th>Berat Akhir</th>\n",
              "      <td>38393.0</td>\n",
              "      <td>-7.884888e-17</td>\n",
              "      <td>1.000013</td>\n",
              "      <td>-1.680688</td>\n",
              "      <td>-0.681721</td>\n",
              "      <td>-0.107400</td>\n",
              "      <td>0.453765</td>\n",
              "      <td>12.319918</td>\n",
              "    </tr>\n",
              "    <tr>\n",
              "      <th>Jmlh Tahun Pendidikan</th>\n",
              "      <td>38393.0</td>\n",
              "      <td>1.008283e+01</td>\n",
              "      <td>2.574543</td>\n",
              "      <td>1.000000</td>\n",
              "      <td>9.000000</td>\n",
              "      <td>10.000000</td>\n",
              "      <td>12.000000</td>\n",
              "      <td>16.000000</td>\n",
              "    </tr>\n",
              "    <tr>\n",
              "      <th>Jenis Kelamin</th>\n",
              "      <td>38393.0</td>\n",
              "      <td>6.696012e-01</td>\n",
              "      <td>0.470363</td>\n",
              "      <td>0.000000</td>\n",
              "      <td>0.000000</td>\n",
              "      <td>1.000000</td>\n",
              "      <td>1.000000</td>\n",
              "      <td>1.000000</td>\n",
              "    </tr>\n",
              "    <tr>\n",
              "      <th>Keuntungan Kapital</th>\n",
              "      <td>38393.0</td>\n",
              "      <td>2.308225e-15</td>\n",
              "      <td>1.000013</td>\n",
              "      <td>-0.145415</td>\n",
              "      <td>-0.145415</td>\n",
              "      <td>-0.145415</td>\n",
              "      <td>-0.145415</td>\n",
              "      <td>13.259794</td>\n",
              "    </tr>\n",
              "    <tr>\n",
              "      <th>Kerugian Capital</th>\n",
              "      <td>38393.0</td>\n",
              "      <td>8.737386e-16</td>\n",
              "      <td>1.000013</td>\n",
              "      <td>-0.216012</td>\n",
              "      <td>-0.216012</td>\n",
              "      <td>-0.216012</td>\n",
              "      <td>-0.216012</td>\n",
              "      <td>10.647079</td>\n",
              "    </tr>\n",
              "    <tr>\n",
              "      <th>Jam per Minggu</th>\n",
              "      <td>38393.0</td>\n",
              "      <td>4.044063e+01</td>\n",
              "      <td>12.382695</td>\n",
              "      <td>1.000000</td>\n",
              "      <td>40.000000</td>\n",
              "      <td>40.000000</td>\n",
              "      <td>45.000000</td>\n",
              "      <td>99.000000</td>\n",
              "    </tr>\n",
              "    <tr>\n",
              "      <th>Gaji</th>\n",
              "      <td>38393.0</td>\n",
              "      <td>2.394968e-01</td>\n",
              "      <td>0.426782</td>\n",
              "      <td>0.000000</td>\n",
              "      <td>0.000000</td>\n",
              "      <td>0.000000</td>\n",
              "      <td>0.000000</td>\n",
              "      <td>1.000000</td>\n",
              "    </tr>\n",
              "  </tbody>\n",
              "</table>\n",
              "</div>"
            ],
            "text/plain": [
              "                         count          mean  ...        75%        max\n",
              "Umur                   38393.0  3.867392e+01  ...  48.000000  90.000000\n",
              "Berat Akhir            38393.0 -7.884888e-17  ...   0.453765  12.319918\n",
              "Jmlh Tahun Pendidikan  38393.0  1.008283e+01  ...  12.000000  16.000000\n",
              "Jenis Kelamin          38393.0  6.696012e-01  ...   1.000000   1.000000\n",
              "Keuntungan Kapital     38393.0  2.308225e-15  ...  -0.145415  13.259794\n",
              "Kerugian Capital       38393.0  8.737386e-16  ...  -0.216012  10.647079\n",
              "Jam per Minggu         38393.0  4.044063e+01  ...  45.000000  99.000000\n",
              "Gaji                   38393.0  2.394968e-01  ...   0.000000   1.000000\n",
              "\n",
              "[8 rows x 8 columns]"
            ]
          },
          "metadata": {
            "tags": []
          },
          "execution_count": 46
        }
      ]
    },
    {
      "cell_type": "code",
      "metadata": {
        "id": "WrOvZrnqsA_P",
        "colab_type": "code",
        "outputId": "b22556ca-b230-4276-d512-45508590a7a8",
        "colab": {
          "base_uri": "https://localhost:8080/",
          "height": 170
        }
      },
      "source": [
        "df.corr()['Gaji'].sort_values(ascending=False)"
      ],
      "execution_count": 0,
      "outputs": [
        {
          "output_type": "execute_result",
          "data": {
            "text/plain": [
              "Gaji                     1.000000\n",
              "Jmlh Tahun Pendidikan    0.333691\n",
              "Umur                     0.231462\n",
              "Jam per Minggu           0.224611\n",
              "Keuntungan Kapital       0.223230\n",
              "Jenis Kelamin            0.211371\n",
              "Kerugian Capital         0.145710\n",
              "Berat Akhir             -0.003956\n",
              "Name: Gaji, dtype: float64"
            ]
          },
          "metadata": {
            "tags": []
          },
          "execution_count": 47
        }
      ]
    },
    {
      "cell_type": "code",
      "metadata": {
        "id": "O_rcSeOsuG2g",
        "colab_type": "code",
        "outputId": "26b4f5b9-8271-4052-b1e7-f73783889166",
        "colab": {
          "base_uri": "https://localhost:8080/",
          "height": 204
        }
      },
      "source": [
        "df.isnull().sum()"
      ],
      "execution_count": 0,
      "outputs": [
        {
          "output_type": "execute_result",
          "data": {
            "text/plain": [
              "Umur                        0\n",
              "Berat Akhir                 0\n",
              "Jmlh Tahun Pendidikan       0\n",
              "Jenis Kelamin               0\n",
              "Keuntungan Kapital          0\n",
              "Kerugian Capital            0\n",
              "Jam per Minggu              0\n",
              "Gaji                        0\n",
              "Kelas Pekerja Map        2204\n",
              "Status Perkawinan Map       0\n",
              "dtype: int64"
            ]
          },
          "metadata": {
            "tags": []
          },
          "execution_count": 48
        }
      ]
    },
    {
      "cell_type": "code",
      "metadata": {
        "id": "ZgOQqHzuuZSZ",
        "colab_type": "code",
        "outputId": "a24361b9-b352-46f9-df67-a858795e5873",
        "colab": {
          "base_uri": "https://localhost:8080/",
          "height": 382
        }
      },
      "source": [
        "sns.catplot(x='Gaji', kind='count', data=df[df['Kelas Pekerja Map'].isnull()])"
      ],
      "execution_count": 0,
      "outputs": [
        {
          "output_type": "execute_result",
          "data": {
            "text/plain": [
              "<seaborn.axisgrid.FacetGrid at 0x7f36340c6128>"
            ]
          },
          "metadata": {
            "tags": []
          },
          "execution_count": 49
        },
        {
          "output_type": "display_data",
          "data": {
            "image/png": "[encoded data removed]",
            "text/plain": [
              "<Figure size 360x360 with 1 Axes>"
            ]
          },
          "metadata": {
            "tags": []
          }
        }
      ]
    },
    {
      "cell_type": "markdown",
      "metadata": {
        "id": "kgIXihbiwIy-",
        "colab_type": "text"
      },
      "source": [
        "It's quite a lot of missing data that the graph shows it looks like another category, so I'll impute it with Lainnya category"
      ]
    },
    {
      "cell_type": "code",
      "metadata": {
        "id": "JBA6PaY_v_hY",
        "colab_type": "code",
        "colab": {}
      },
      "source": [
        "df['Kelas Pekerja Map'] = df['Kelas Pekerja Map'].fillna('Lainnya')\n",
        "df_test['Kelas Pekerja Map'] = df_test['Kelas Pekerja Map'].fillna('Lainnya')"
      ],
      "execution_count": 0,
      "outputs": []
    },
    {
      "cell_type": "markdown",
      "metadata": {
        "id": "str1Oqxfxz1U",
        "colab_type": "text"
      },
      "source": [
        "Lets One hot encode all the categorical variables"
      ]
    },
    {
      "cell_type": "code",
      "metadata": {
        "id": "CuZRYBYjvdrV",
        "colab_type": "code",
        "outputId": "925e9489-d1cc-446b-bf32-b655978a6cf7",
        "colab": {
          "base_uri": "https://localhost:8080/",
          "height": 275
        }
      },
      "source": [
        "df_clean = pd.get_dummies(df, columns=['Kelas Pekerja Map', 'Status Perkawinan Map'], drop_first=True)\n",
        "df_test_clean = pd.get_dummies(df_test, columns=['Kelas Pekerja Map', 'Status Perkawinan Map'], drop_first=True)\n",
        "\n",
        "df_clean.head()"
      ],
      "execution_count": 0,
      "outputs": [
        {
          "output_type": "execute_result",
          "data": {
            "text/html": [
              "<div>\n",
              "<style scoped>\n",
              "    .dataframe tbody tr th:only-of-type {\n",
              "        vertical-align: middle;\n",
              "    }\n",
              "\n",
              "    .dataframe tbody tr th {\n",
              "        vertical-align: top;\n",
              "    }\n",
              "\n",
              "    .dataframe thead th {\n",
              "        text-align: right;\n",
              "    }\n",
              "</style>\n",
              "<table border=\"1\" class=\"dataframe\">\n",
              "  <thead>\n",
              "    <tr style=\"text-align: right;\">\n",
              "      <th></th>\n",
              "      <th>Umur</th>\n",
              "      <th>Berat Akhir</th>\n",
              "      <th>Jmlh Tahun Pendidikan</th>\n",
              "      <th>Jenis Kelamin</th>\n",
              "      <th>Keuntungan Kapital</th>\n",
              "      <th>Kerugian Capital</th>\n",
              "      <th>Jam per Minggu</th>\n",
              "      <th>Gaji</th>\n",
              "      <th>Kelas Pekerja Map_Lainnya</th>\n",
              "      <th>Kelas Pekerja Map_Pemerintah</th>\n",
              "      <th>Kelas Pekerja Map_Tidak bekerja</th>\n",
              "      <th>Kelas Pekerja Map_Wiraswasta</th>\n",
              "      <th>Status Perkawinan Map_Berpisah</th>\n",
              "      <th>Status Perkawinan Map_Menikah</th>\n",
              "    </tr>\n",
              "  </thead>\n",
              "  <tbody>\n",
              "    <tr>\n",
              "      <th>0</th>\n",
              "      <td>59.0</td>\n",
              "      <td>-0.474617</td>\n",
              "      <td>14.0</td>\n",
              "      <td>1</td>\n",
              "      <td>-0.145415</td>\n",
              "      <td>-0.216012</td>\n",
              "      <td>50.0</td>\n",
              "      <td>1.0</td>\n",
              "      <td>0</td>\n",
              "      <td>1</td>\n",
              "      <td>0</td>\n",
              "      <td>0</td>\n",
              "      <td>0</td>\n",
              "      <td>1</td>\n",
              "    </tr>\n",
              "    <tr>\n",
              "      <th>1</th>\n",
              "      <td>52.0</td>\n",
              "      <td>-0.291080</td>\n",
              "      <td>9.0</td>\n",
              "      <td>0</td>\n",
              "      <td>-0.145415</td>\n",
              "      <td>-0.216012</td>\n",
              "      <td>38.0</td>\n",
              "      <td>0.0</td>\n",
              "      <td>0</td>\n",
              "      <td>0</td>\n",
              "      <td>0</td>\n",
              "      <td>1</td>\n",
              "      <td>1</td>\n",
              "      <td>0</td>\n",
              "    </tr>\n",
              "    <tr>\n",
              "      <th>2</th>\n",
              "      <td>52.0</td>\n",
              "      <td>0.899116</td>\n",
              "      <td>9.0</td>\n",
              "      <td>0</td>\n",
              "      <td>-0.145415</td>\n",
              "      <td>-0.216012</td>\n",
              "      <td>99.0</td>\n",
              "      <td>1.0</td>\n",
              "      <td>0</td>\n",
              "      <td>0</td>\n",
              "      <td>0</td>\n",
              "      <td>0</td>\n",
              "      <td>1</td>\n",
              "      <td>0</td>\n",
              "    </tr>\n",
              "    <tr>\n",
              "      <th>3</th>\n",
              "      <td>45.0</td>\n",
              "      <td>-0.538733</td>\n",
              "      <td>9.0</td>\n",
              "      <td>0</td>\n",
              "      <td>-0.145415</td>\n",
              "      <td>-0.216012</td>\n",
              "      <td>40.0</td>\n",
              "      <td>0.0</td>\n",
              "      <td>0</td>\n",
              "      <td>0</td>\n",
              "      <td>0</td>\n",
              "      <td>1</td>\n",
              "      <td>0</td>\n",
              "      <td>0</td>\n",
              "    </tr>\n",
              "    <tr>\n",
              "      <th>4</th>\n",
              "      <td>28.0</td>\n",
              "      <td>-0.817350</td>\n",
              "      <td>9.0</td>\n",
              "      <td>1</td>\n",
              "      <td>-0.145415</td>\n",
              "      <td>-0.216012</td>\n",
              "      <td>45.0</td>\n",
              "      <td>1.0</td>\n",
              "      <td>0</td>\n",
              "      <td>0</td>\n",
              "      <td>0</td>\n",
              "      <td>1</td>\n",
              "      <td>0</td>\n",
              "      <td>0</td>\n",
              "    </tr>\n",
              "  </tbody>\n",
              "</table>\n",
              "</div>"
            ],
            "text/plain": [
              "   Umur  ...  Status Perkawinan Map_Menikah\n",
              "0  59.0  ...                              1\n",
              "1  52.0  ...                              0\n",
              "2  52.0  ...                              0\n",
              "3  45.0  ...                              0\n",
              "4  28.0  ...                              0\n",
              "\n",
              "[5 rows x 14 columns]"
            ]
          },
          "metadata": {
            "tags": []
          },
          "execution_count": 51
        }
      ]
    },
    {
      "cell_type": "markdown",
      "metadata": {
        "id": "9SU79SJMzKXh",
        "colab_type": "text"
      },
      "source": [
        "#Predictive Modeling"
      ]
    },
    {
      "cell_type": "code",
      "metadata": {
        "id": "JTTtK8WxNBeX",
        "colab_type": "code",
        "colab": {}
      },
      "source": [
        "X = df_clean.drop(['Gaji'], axis=1)\n",
        "y = df_clean['Gaji']"
      ],
      "execution_count": 0,
      "outputs": []
    },
    {
      "cell_type": "code",
      "metadata": {
        "id": "jBNSCQl8larb",
        "colab_type": "code",
        "colab": {}
      },
      "source": [
        "params={\n",
        " \"learning_rate\"    : [0.1, 0.01, 0.001] ,\n",
        " \"max_depth\"        : [2, 4, 5, 7, 10],\n",
        " \"min_child_weight\" : [ 1, 3, 5, 7],\n",
        " \"gamma\"            : [0.01, 0.1, 0.3 , 0.5, 1, 1.5, 2],\n",
        " \"colsample_bytree\" : [ 0.3, 0.4, 0.5, 0.8, 1.0],\n",
        " 'reg_alpha'        : [0.0, 0.5, 1.0],\n",
        " 'reg_lambda'       : [1, 1.5, 2, 3, 4, 4.5],\n",
        " 'n_estimators'     : [100, 250, 500, 1000]\n",
        "}"
      ],
      "execution_count": 0,
      "outputs": []
    },
    {
      "cell_type": "code",
      "metadata": {
        "id": "G7CQ_ZbuOa2t",
        "colab_type": "code",
        "outputId": "bf77a054-c5e4-4138-ce33-1cd983c49ed9",
        "colab": {
          "base_uri": "https://localhost:8080/",
          "height": 1000
        }
      },
      "source": [
        "model = XGBClassifier()\n",
        "random = RandomizedSearchCV(model, param_distributions=params, scoring='roc_auc',\n",
        "                            cv=5, verbose=3, random_state=40)\n",
        "random.fit(X, y)"
      ],
      "execution_count": 0,
      "outputs": [
        {
          "output_type": "stream",
          "text": [
            "Fitting 5 folds for each of 10 candidates, totalling 50 fits\n",
            "[CV] reg_lambda=1, reg_alpha=1.0, n_estimators=250, min_child_weight=3, max_depth=2, learning_rate=0.1, gamma=1.5, colsample_bytree=1.0 \n"
          ],
          "name": "stdout"
        },
        {
          "output_type": "stream",
          "text": [
            "[Parallel(n_jobs=1)]: Using backend SequentialBackend with 1 concurrent workers.\n"
          ],
          "name": "stderr"
        },
        {
          "output_type": "stream",
          "text": [
            "[CV]  reg_lambda=1, reg_alpha=1.0, n_estimators=250, min_child_weight=3, max_depth=2, learning_rate=0.1, gamma=1.5, colsample_bytree=1.0, score=0.919, total=   3.4s\n",
            "[CV] reg_lambda=1, reg_alpha=1.0, n_estimators=250, min_child_weight=3, max_depth=2, learning_rate=0.1, gamma=1.5, colsample_bytree=1.0 \n"
          ],
          "name": "stdout"
        },
        {
          "output_type": "stream",
          "text": [
            "[Parallel(n_jobs=1)]: Done   1 out of   1 | elapsed:    3.4s remaining:    0.0s\n"
          ],
          "name": "stderr"
        },
        {
          "output_type": "stream",
          "text": [
            "[CV]  reg_lambda=1, reg_alpha=1.0, n_estimators=250, min_child_weight=3, max_depth=2, learning_rate=0.1, gamma=1.5, colsample_bytree=1.0, score=0.921, total=   2.6s\n",
            "[CV] reg_lambda=1, reg_alpha=1.0, n_estimators=250, min_child_weight=3, max_depth=2, learning_rate=0.1, gamma=1.5, colsample_bytree=1.0 \n"
          ],
          "name": "stdout"
        },
        {
          "output_type": "stream",
          "text": [
            "[Parallel(n_jobs=1)]: Done   2 out of   2 | elapsed:    5.9s remaining:    0.0s\n"
          ],
          "name": "stderr"
        },
        {
          "output_type": "stream",
          "text": [
            "[CV]  reg_lambda=1, reg_alpha=1.0, n_estimators=250, min_child_weight=3, max_depth=2, learning_rate=0.1, gamma=1.5, colsample_bytree=1.0, score=0.915, total=   2.6s\n",
            "[CV] reg_lambda=1, reg_alpha=1.0, n_estimators=250, min_child_weight=3, max_depth=2, learning_rate=0.1, gamma=1.5, colsample_bytree=1.0 \n",
            "[CV]  reg_lambda=1, reg_alpha=1.0, n_estimators=250, min_child_weight=3, max_depth=2, learning_rate=0.1, gamma=1.5, colsample_bytree=1.0, score=0.910, total=   2.6s\n",
            "[CV] reg_lambda=1, reg_alpha=1.0, n_estimators=250, min_child_weight=3, max_depth=2, learning_rate=0.1, gamma=1.5, colsample_bytree=1.0 \n",
            "[CV]  reg_lambda=1, reg_alpha=1.0, n_estimators=250, min_child_weight=3, max_depth=2, learning_rate=0.1, gamma=1.5, colsample_bytree=1.0, score=0.915, total=   2.6s\n",
            "[CV] reg_lambda=4.5, reg_alpha=1.0, n_estimators=250, min_child_weight=7, max_depth=4, learning_rate=0.1, gamma=1.5, colsample_bytree=0.8 \n",
            "[CV]  reg_lambda=4.5, reg_alpha=1.0, n_estimators=250, min_child_weight=7, max_depth=4, learning_rate=0.1, gamma=1.5, colsample_bytree=0.8, score=0.923, total=   3.9s\n",
            "[CV] reg_lambda=4.5, reg_alpha=1.0, n_estimators=250, min_child_weight=7, max_depth=4, learning_rate=0.1, gamma=1.5, colsample_bytree=0.8 \n",
            "[CV]  reg_lambda=4.5, reg_alpha=1.0, n_estimators=250, min_child_weight=7, max_depth=4, learning_rate=0.1, gamma=1.5, colsample_bytree=0.8, score=0.924, total=   3.9s\n",
            "[CV] reg_lambda=4.5, reg_alpha=1.0, n_estimators=250, min_child_weight=7, max_depth=4, learning_rate=0.1, gamma=1.5, colsample_bytree=0.8 \n",
            "[CV]  reg_lambda=4.5, reg_alpha=1.0, n_estimators=250, min_child_weight=7, max_depth=4, learning_rate=0.1, gamma=1.5, colsample_bytree=0.8, score=0.920, total=   3.9s\n",
            "[CV] reg_lambda=4.5, reg_alpha=1.0, n_estimators=250, min_child_weight=7, max_depth=4, learning_rate=0.1, gamma=1.5, colsample_bytree=0.8 \n",
            "[CV]  reg_lambda=4.5, reg_alpha=1.0, n_estimators=250, min_child_weight=7, max_depth=4, learning_rate=0.1, gamma=1.5, colsample_bytree=0.8, score=0.914, total=   3.9s\n",
            "[CV] reg_lambda=4.5, reg_alpha=1.0, n_estimators=250, min_child_weight=7, max_depth=4, learning_rate=0.1, gamma=1.5, colsample_bytree=0.8 \n",
            "[CV]  reg_lambda=4.5, reg_alpha=1.0, n_estimators=250, min_child_weight=7, max_depth=4, learning_rate=0.1, gamma=1.5, colsample_bytree=0.8, score=0.918, total=   3.8s\n",
            "[CV] reg_lambda=1.5, reg_alpha=0.0, n_estimators=1000, min_child_weight=5, max_depth=4, learning_rate=0.1, gamma=0.01, colsample_bytree=0.4 \n",
            "[CV]  reg_lambda=1.5, reg_alpha=0.0, n_estimators=1000, min_child_weight=5, max_depth=4, learning_rate=0.1, gamma=0.01, colsample_bytree=0.4, score=0.924, total=  10.7s\n",
            "[CV] reg_lambda=1.5, reg_alpha=0.0, n_estimators=1000, min_child_weight=5, max_depth=4, learning_rate=0.1, gamma=0.01, colsample_bytree=0.4 \n",
            "[CV]  reg_lambda=1.5, reg_alpha=0.0, n_estimators=1000, min_child_weight=5, max_depth=4, learning_rate=0.1, gamma=0.01, colsample_bytree=0.4, score=0.924, total=  10.7s\n",
            "[CV] reg_lambda=1.5, reg_alpha=0.0, n_estimators=1000, min_child_weight=5, max_depth=4, learning_rate=0.1, gamma=0.01, colsample_bytree=0.4 \n",
            "[CV]  reg_lambda=1.5, reg_alpha=0.0, n_estimators=1000, min_child_weight=5, max_depth=4, learning_rate=0.1, gamma=0.01, colsample_bytree=0.4, score=0.920, total=  10.8s\n",
            "[CV] reg_lambda=1.5, reg_alpha=0.0, n_estimators=1000, min_child_weight=5, max_depth=4, learning_rate=0.1, gamma=0.01, colsample_bytree=0.4 \n",
            "[CV]  reg_lambda=1.5, reg_alpha=0.0, n_estimators=1000, min_child_weight=5, max_depth=4, learning_rate=0.1, gamma=0.01, colsample_bytree=0.4, score=0.915, total=  10.8s\n",
            "[CV] reg_lambda=1.5, reg_alpha=0.0, n_estimators=1000, min_child_weight=5, max_depth=4, learning_rate=0.1, gamma=0.01, colsample_bytree=0.4 \n",
            "[CV]  reg_lambda=1.5, reg_alpha=0.0, n_estimators=1000, min_child_weight=5, max_depth=4, learning_rate=0.1, gamma=0.01, colsample_bytree=0.4, score=0.920, total=  10.7s\n",
            "[CV] reg_lambda=2, reg_alpha=0.5, n_estimators=100, min_child_weight=5, max_depth=7, learning_rate=0.01, gamma=0.01, colsample_bytree=0.8 \n",
            "[CV]  reg_lambda=2, reg_alpha=0.5, n_estimators=100, min_child_weight=5, max_depth=7, learning_rate=0.01, gamma=0.01, colsample_bytree=0.8, score=0.913, total=   3.1s\n",
            "[CV] reg_lambda=2, reg_alpha=0.5, n_estimators=100, min_child_weight=5, max_depth=7, learning_rate=0.01, gamma=0.01, colsample_bytree=0.8 \n",
            "[CV]  reg_lambda=2, reg_alpha=0.5, n_estimators=100, min_child_weight=5, max_depth=7, learning_rate=0.01, gamma=0.01, colsample_bytree=0.8, score=0.914, total=   3.1s\n",
            "[CV] reg_lambda=2, reg_alpha=0.5, n_estimators=100, min_child_weight=5, max_depth=7, learning_rate=0.01, gamma=0.01, colsample_bytree=0.8 \n",
            "[CV]  reg_lambda=2, reg_alpha=0.5, n_estimators=100, min_child_weight=5, max_depth=7, learning_rate=0.01, gamma=0.01, colsample_bytree=0.8, score=0.909, total=   3.1s\n",
            "[CV] reg_lambda=2, reg_alpha=0.5, n_estimators=100, min_child_weight=5, max_depth=7, learning_rate=0.01, gamma=0.01, colsample_bytree=0.8 \n",
            "[CV]  reg_lambda=2, reg_alpha=0.5, n_estimators=100, min_child_weight=5, max_depth=7, learning_rate=0.01, gamma=0.01, colsample_bytree=0.8, score=0.905, total=   3.1s\n",
            "[CV] reg_lambda=2, reg_alpha=0.5, n_estimators=100, min_child_weight=5, max_depth=7, learning_rate=0.01, gamma=0.01, colsample_bytree=0.8 \n",
            "[CV]  reg_lambda=2, reg_alpha=0.5, n_estimators=100, min_child_weight=5, max_depth=7, learning_rate=0.01, gamma=0.01, colsample_bytree=0.8, score=0.909, total=   3.1s\n",
            "[CV] reg_lambda=1, reg_alpha=0.5, n_estimators=250, min_child_weight=1, max_depth=5, learning_rate=0.1, gamma=2, colsample_bytree=0.4 \n",
            "[CV]  reg_lambda=1, reg_alpha=0.5, n_estimators=250, min_child_weight=1, max_depth=5, learning_rate=0.1, gamma=2, colsample_bytree=0.4, score=0.924, total=   3.5s\n",
            "[CV] reg_lambda=1, reg_alpha=0.5, n_estimators=250, min_child_weight=1, max_depth=5, learning_rate=0.1, gamma=2, colsample_bytree=0.4 \n",
            "[CV]  reg_lambda=1, reg_alpha=0.5, n_estimators=250, min_child_weight=1, max_depth=5, learning_rate=0.1, gamma=2, colsample_bytree=0.4, score=0.925, total=   3.5s\n",
            "[CV] reg_lambda=1, reg_alpha=0.5, n_estimators=250, min_child_weight=1, max_depth=5, learning_rate=0.1, gamma=2, colsample_bytree=0.4 \n",
            "[CV]  reg_lambda=1, reg_alpha=0.5, n_estimators=250, min_child_weight=1, max_depth=5, learning_rate=0.1, gamma=2, colsample_bytree=0.4, score=0.921, total=   3.5s\n",
            "[CV] reg_lambda=1, reg_alpha=0.5, n_estimators=250, min_child_weight=1, max_depth=5, learning_rate=0.1, gamma=2, colsample_bytree=0.4 \n",
            "[CV]  reg_lambda=1, reg_alpha=0.5, n_estimators=250, min_child_weight=1, max_depth=5, learning_rate=0.1, gamma=2, colsample_bytree=0.4, score=0.916, total=   3.5s\n",
            "[CV] reg_lambda=1, reg_alpha=0.5, n_estimators=250, min_child_weight=1, max_depth=5, learning_rate=0.1, gamma=2, colsample_bytree=0.4 \n",
            "[CV]  reg_lambda=1, reg_alpha=0.5, n_estimators=250, min_child_weight=1, max_depth=5, learning_rate=0.1, gamma=2, colsample_bytree=0.4, score=0.920, total=   3.5s\n",
            "[CV] reg_lambda=2, reg_alpha=0.0, n_estimators=100, min_child_weight=5, max_depth=10, learning_rate=0.01, gamma=1.5, colsample_bytree=0.4 \n",
            "[CV]  reg_lambda=2, reg_alpha=0.0, n_estimators=100, min_child_weight=5, max_depth=10, learning_rate=0.01, gamma=1.5, colsample_bytree=0.4, score=0.914, total=   2.8s\n",
            "[CV] reg_lambda=2, reg_alpha=0.0, n_estimators=100, min_child_weight=5, max_depth=10, learning_rate=0.01, gamma=1.5, colsample_bytree=0.4 \n",
            "[CV]  reg_lambda=2, reg_alpha=0.0, n_estimators=100, min_child_weight=5, max_depth=10, learning_rate=0.01, gamma=1.5, colsample_bytree=0.4, score=0.915, total=   2.8s\n",
            "[CV] reg_lambda=2, reg_alpha=0.0, n_estimators=100, min_child_weight=5, max_depth=10, learning_rate=0.01, gamma=1.5, colsample_bytree=0.4 \n",
            "[CV]  reg_lambda=2, reg_alpha=0.0, n_estimators=100, min_child_weight=5, max_depth=10, learning_rate=0.01, gamma=1.5, colsample_bytree=0.4, score=0.910, total=   2.9s\n",
            "[CV] reg_lambda=2, reg_alpha=0.0, n_estimators=100, min_child_weight=5, max_depth=10, learning_rate=0.01, gamma=1.5, colsample_bytree=0.4 \n",
            "[CV]  reg_lambda=2, reg_alpha=0.0, n_estimators=100, min_child_weight=5, max_depth=10, learning_rate=0.01, gamma=1.5, colsample_bytree=0.4, score=0.908, total=   2.8s\n",
            "[CV] reg_lambda=2, reg_alpha=0.0, n_estimators=100, min_child_weight=5, max_depth=10, learning_rate=0.01, gamma=1.5, colsample_bytree=0.4 \n",
            "[CV]  reg_lambda=2, reg_alpha=0.0, n_estimators=100, min_child_weight=5, max_depth=10, learning_rate=0.01, gamma=1.5, colsample_bytree=0.4, score=0.907, total=   2.9s\n",
            "[CV] reg_lambda=3, reg_alpha=1.0, n_estimators=250, min_child_weight=1, max_depth=5, learning_rate=0.01, gamma=1.5, colsample_bytree=0.8 \n",
            "[CV]  reg_lambda=3, reg_alpha=1.0, n_estimators=250, min_child_weight=1, max_depth=5, learning_rate=0.01, gamma=1.5, colsample_bytree=0.8, score=0.913, total=   5.4s\n",
            "[CV] reg_lambda=3, reg_alpha=1.0, n_estimators=250, min_child_weight=1, max_depth=5, learning_rate=0.01, gamma=1.5, colsample_bytree=0.8 \n",
            "[CV]  reg_lambda=3, reg_alpha=1.0, n_estimators=250, min_child_weight=1, max_depth=5, learning_rate=0.01, gamma=1.5, colsample_bytree=0.8, score=0.915, total=   5.3s\n",
            "[CV] reg_lambda=3, reg_alpha=1.0, n_estimators=250, min_child_weight=1, max_depth=5, learning_rate=0.01, gamma=1.5, colsample_bytree=0.8 \n",
            "[CV]  reg_lambda=3, reg_alpha=1.0, n_estimators=250, min_child_weight=1, max_depth=5, learning_rate=0.01, gamma=1.5, colsample_bytree=0.8, score=0.909, total=   5.3s\n",
            "[CV] reg_lambda=3, reg_alpha=1.0, n_estimators=250, min_child_weight=1, max_depth=5, learning_rate=0.01, gamma=1.5, colsample_bytree=0.8 \n",
            "[CV]  reg_lambda=3, reg_alpha=1.0, n_estimators=250, min_child_weight=1, max_depth=5, learning_rate=0.01, gamma=1.5, colsample_bytree=0.8, score=0.903, total=   5.3s\n",
            "[CV] reg_lambda=3, reg_alpha=1.0, n_estimators=250, min_child_weight=1, max_depth=5, learning_rate=0.01, gamma=1.5, colsample_bytree=0.8 \n",
            "[CV]  reg_lambda=3, reg_alpha=1.0, n_estimators=250, min_child_weight=1, max_depth=5, learning_rate=0.01, gamma=1.5, colsample_bytree=0.8, score=0.909, total=   5.3s\n",
            "[CV] reg_lambda=2, reg_alpha=0.5, n_estimators=500, min_child_weight=1, max_depth=2, learning_rate=0.1, gamma=1.5, colsample_bytree=1.0 \n",
            "[CV]  reg_lambda=2, reg_alpha=0.5, n_estimators=500, min_child_weight=1, max_depth=2, learning_rate=0.1, gamma=1.5, colsample_bytree=1.0, score=0.920, total=   5.0s\n",
            "[CV] reg_lambda=2, reg_alpha=0.5, n_estimators=500, min_child_weight=1, max_depth=2, learning_rate=0.1, gamma=1.5, colsample_bytree=1.0 \n",
            "[CV]  reg_lambda=2, reg_alpha=0.5, n_estimators=500, min_child_weight=1, max_depth=2, learning_rate=0.1, gamma=1.5, colsample_bytree=1.0, score=0.923, total=   5.0s\n",
            "[CV] reg_lambda=2, reg_alpha=0.5, n_estimators=500, min_child_weight=1, max_depth=2, learning_rate=0.1, gamma=1.5, colsample_bytree=1.0 \n",
            "[CV]  reg_lambda=2, reg_alpha=0.5, n_estimators=500, min_child_weight=1, max_depth=2, learning_rate=0.1, gamma=1.5, colsample_bytree=1.0, score=0.916, total=   4.9s\n",
            "[CV] reg_lambda=2, reg_alpha=0.5, n_estimators=500, min_child_weight=1, max_depth=2, learning_rate=0.1, gamma=1.5, colsample_bytree=1.0 \n",
            "[CV]  reg_lambda=2, reg_alpha=0.5, n_estimators=500, min_child_weight=1, max_depth=2, learning_rate=0.1, gamma=1.5, colsample_bytree=1.0, score=0.911, total=   5.0s\n",
            "[CV] reg_lambda=2, reg_alpha=0.5, n_estimators=500, min_child_weight=1, max_depth=2, learning_rate=0.1, gamma=1.5, colsample_bytree=1.0 \n",
            "[CV]  reg_lambda=2, reg_alpha=0.5, n_estimators=500, min_child_weight=1, max_depth=2, learning_rate=0.1, gamma=1.5, colsample_bytree=1.0, score=0.915, total=   5.0s\n",
            "[CV] reg_lambda=3, reg_alpha=1.0, n_estimators=100, min_child_weight=7, max_depth=2, learning_rate=0.001, gamma=0.5, colsample_bytree=1.0 \n",
            "[CV]  reg_lambda=3, reg_alpha=1.0, n_estimators=100, min_child_weight=7, max_depth=2, learning_rate=0.001, gamma=0.5, colsample_bytree=1.0, score=0.839, total=   1.1s\n",
            "[CV] reg_lambda=3, reg_alpha=1.0, n_estimators=100, min_child_weight=7, max_depth=2, learning_rate=0.001, gamma=0.5, colsample_bytree=1.0 \n",
            "[CV]  reg_lambda=3, reg_alpha=1.0, n_estimators=100, min_child_weight=7, max_depth=2, learning_rate=0.001, gamma=0.5, colsample_bytree=1.0, score=0.834, total=   1.1s\n",
            "[CV] reg_lambda=3, reg_alpha=1.0, n_estimators=100, min_child_weight=7, max_depth=2, learning_rate=0.001, gamma=0.5, colsample_bytree=1.0 \n",
            "[CV]  reg_lambda=3, reg_alpha=1.0, n_estimators=100, min_child_weight=7, max_depth=2, learning_rate=0.001, gamma=0.5, colsample_bytree=1.0, score=0.829, total=   1.1s\n",
            "[CV] reg_lambda=3, reg_alpha=1.0, n_estimators=100, min_child_weight=7, max_depth=2, learning_rate=0.001, gamma=0.5, colsample_bytree=1.0 \n",
            "[CV]  reg_lambda=3, reg_alpha=1.0, n_estimators=100, min_child_weight=7, max_depth=2, learning_rate=0.001, gamma=0.5, colsample_bytree=1.0, score=0.819, total=   1.1s\n",
            "[CV] reg_lambda=3, reg_alpha=1.0, n_estimators=100, min_child_weight=7, max_depth=2, learning_rate=0.001, gamma=0.5, colsample_bytree=1.0 \n",
            "[CV]  reg_lambda=3, reg_alpha=1.0, n_estimators=100, min_child_weight=7, max_depth=2, learning_rate=0.001, gamma=0.5, colsample_bytree=1.0, score=0.839, total=   1.1s\n",
            "[CV] reg_lambda=1, reg_alpha=0.5, n_estimators=500, min_child_weight=3, max_depth=5, learning_rate=0.1, gamma=1, colsample_bytree=0.5 \n",
            "[CV]  reg_lambda=1, reg_alpha=0.5, n_estimators=500, min_child_weight=3, max_depth=5, learning_rate=0.1, gamma=1, colsample_bytree=0.5, score=0.924, total=   7.2s\n",
            "[CV] reg_lambda=1, reg_alpha=0.5, n_estimators=500, min_child_weight=3, max_depth=5, learning_rate=0.1, gamma=1, colsample_bytree=0.5 \n",
            "[CV]  reg_lambda=1, reg_alpha=0.5, n_estimators=500, min_child_weight=3, max_depth=5, learning_rate=0.1, gamma=1, colsample_bytree=0.5, score=0.925, total=   7.0s\n",
            "[CV] reg_lambda=1, reg_alpha=0.5, n_estimators=500, min_child_weight=3, max_depth=5, learning_rate=0.1, gamma=1, colsample_bytree=0.5 \n",
            "[CV]  reg_lambda=1, reg_alpha=0.5, n_estimators=500, min_child_weight=3, max_depth=5, learning_rate=0.1, gamma=1, colsample_bytree=0.5, score=0.920, total=   7.1s\n",
            "[CV] reg_lambda=1, reg_alpha=0.5, n_estimators=500, min_child_weight=3, max_depth=5, learning_rate=0.1, gamma=1, colsample_bytree=0.5 \n",
            "[CV]  reg_lambda=1, reg_alpha=0.5, n_estimators=500, min_child_weight=3, max_depth=5, learning_rate=0.1, gamma=1, colsample_bytree=0.5, score=0.915, total=   7.0s\n",
            "[CV] reg_lambda=1, reg_alpha=0.5, n_estimators=500, min_child_weight=3, max_depth=5, learning_rate=0.1, gamma=1, colsample_bytree=0.5 \n",
            "[CV]  reg_lambda=1, reg_alpha=0.5, n_estimators=500, min_child_weight=3, max_depth=5, learning_rate=0.1, gamma=1, colsample_bytree=0.5, score=0.920, total=   7.1s\n"
          ],
          "name": "stdout"
        },
        {
          "output_type": "stream",
          "text": [
            "[Parallel(n_jobs=1)]: Done  50 out of  50 | elapsed:  3.8min finished\n"
          ],
          "name": "stderr"
        },
        {
          "output_type": "execute_result",
          "data": {
            "text/plain": [
              "RandomizedSearchCV(cv=5, error_score=nan,\n",
              "                   estimator=XGBClassifier(base_score=0.5, booster='gbtree',\n",
              "                                           colsample_bylevel=1,\n",
              "                                           colsample_bynode=1,\n",
              "                                           colsample_bytree=1, gamma=0,\n",
              "                                           learning_rate=0.1, max_delta_step=0,\n",
              "                                           max_depth=3, min_child_weight=1,\n",
              "                                           missing=None, n_estimators=100,\n",
              "                                           n_jobs=1, nthread=None,\n",
              "                                           objective='binary:logistic',\n",
              "                                           random_state=0, reg_alpha=0,\n",
              "                                           reg_lambda=1, sc...\n",
              "                   param_distributions={'colsample_bytree': [0.3, 0.4, 0.5, 0.8,\n",
              "                                                             1.0],\n",
              "                                        'gamma': [0.01, 0.1, 0.3, 0.5, 1, 1.5,\n",
              "                                                  2],\n",
              "                                        'learning_rate': [0.1, 0.01, 0.001],\n",
              "                                        'max_depth': [2, 4, 5, 7, 10],\n",
              "                                        'min_child_weight': [1, 3, 5, 7],\n",
              "                                        'n_estimators': [100, 250, 500, 1000],\n",
              "                                        'reg_alpha': [0.0, 0.5, 1.0],\n",
              "                                        'reg_lambda': [1, 1.5, 2, 3, 4, 4.5]},\n",
              "                   pre_dispatch='2*n_jobs', random_state=40, refit=True,\n",
              "                   return_train_score=False, scoring='roc_auc', verbose=3)"
            ]
          },
          "metadata": {
            "tags": []
          },
          "execution_count": 55
        }
      ]
    },
    {
      "cell_type": "code",
      "metadata": {
        "id": "mNR9RJWIoD5u",
        "colab_type": "code",
        "outputId": "33021901-5c0f-47a7-ca6d-92e6d2d57823",
        "colab": {
          "base_uri": "https://localhost:8080/",
          "height": 136
        }
      },
      "source": [
        "random.best_estimator_"
      ],
      "execution_count": 0,
      "outputs": [
        {
          "output_type": "execute_result",
          "data": {
            "text/plain": [
              "XGBClassifier(base_score=0.5, booster='gbtree', colsample_bylevel=1,\n",
              "              colsample_bynode=1, colsample_bytree=0.4, gamma=2,\n",
              "              learning_rate=0.1, max_delta_step=0, max_depth=5,\n",
              "              min_child_weight=1, missing=None, n_estimators=250, n_jobs=1,\n",
              "              nthread=None, objective='binary:logistic', random_state=0,\n",
              "              reg_alpha=0.5, reg_lambda=1, scale_pos_weight=1, seed=None,\n",
              "              silent=None, subsample=1, verbosity=1)"
            ]
          },
          "metadata": {
            "tags": []
          },
          "execution_count": 56
        }
      ]
    },
    {
      "cell_type": "code",
      "metadata": {
        "id": "DUX5aMgsFq0g",
        "colab_type": "code",
        "outputId": "72458396-cc97-4b8b-f781-7d6b5d66bea0",
        "colab": {
          "base_uri": "https://localhost:8080/",
          "height": 153
        }
      },
      "source": [
        "random.best_params_"
      ],
      "execution_count": 0,
      "outputs": [
        {
          "output_type": "execute_result",
          "data": {
            "text/plain": [
              "{'colsample_bytree': 0.4,\n",
              " 'gamma': 2,\n",
              " 'learning_rate': 0.1,\n",
              " 'max_depth': 5,\n",
              " 'min_child_weight': 1,\n",
              " 'n_estimators': 250,\n",
              " 'reg_alpha': 0.5,\n",
              " 'reg_lambda': 1}"
            ]
          },
          "metadata": {
            "tags": []
          },
          "execution_count": 57
        }
      ]
    },
    {
      "cell_type": "code",
      "metadata": {
        "id": "bW40py5inKVt",
        "colab_type": "code",
        "outputId": "dc3399ed-d96c-48b2-e8b3-42182b7de00b",
        "colab": {
          "base_uri": "https://localhost:8080/",
          "height": 85
        }
      },
      "source": [
        "best_model = XGBClassifier(base_score=0.5, booster='gbtree', colsample_bylevel=1,\n",
        "              colsample_bynode=1, colsample_bytree=0.4, gamma=2,\n",
        "              learning_rate=0.1, max_delta_step=0, max_depth=5,\n",
        "              min_child_weight=1, missing=None, n_estimators=250, n_jobs=1,\n",
        "              nthread=None, objective='binary:logistic', random_state=0,\n",
        "              reg_alpha=0.5, reg_lambda=1, scale_pos_weight=1, seed=None,\n",
        "              silent=None, subsample=1, verbosity=1)\n",
        "\n",
        "score = cross_val_score(best_model, X, y, scoring='roc_auc', cv=10)\n",
        "print(score)\n",
        "print('-'*40)\n",
        "print(score.mean())"
      ],
      "execution_count": 0,
      "outputs": [
        {
          "output_type": "stream",
          "text": [
            "[0.92479582 0.92589767 0.92769636 0.92304411 0.92458499 0.91881512\n",
            " 0.91211971 0.91986301 0.91937521 0.92164894]\n",
            "----------------------------------------\n",
            "0.9217840954069738\n"
          ],
          "name": "stdout"
        }
      ]
    },
    {
      "cell_type": "code",
      "metadata": {
        "id": "QAi0iT2EnjU5",
        "colab_type": "code",
        "outputId": "c0961502-f782-4a65-da5a-dd4210220fc7",
        "colab": {
          "base_uri": "https://localhost:8080/",
          "height": 136
        }
      },
      "source": [
        "best_model.fit(X, y)"
      ],
      "execution_count": 0,
      "outputs": [
        {
          "output_type": "execute_result",
          "data": {
            "text/plain": [
              "XGBClassifier(base_score=0.5, booster='gbtree', colsample_bylevel=1,\n",
              "              colsample_bynode=1, colsample_bytree=0.4, gamma=2,\n",
              "              learning_rate=0.1, max_delta_step=0, max_depth=5,\n",
              "              min_child_weight=1, missing=None, n_estimators=250, n_jobs=1,\n",
              "              nthread=None, objective='binary:logistic', random_state=0,\n",
              "              reg_alpha=0.5, reg_lambda=1, scale_pos_weight=1, seed=None,\n",
              "              silent=None, subsample=1, verbosity=1)"
            ]
          },
          "metadata": {
            "tags": []
          },
          "execution_count": 59
        }
      ]
    },
    {
      "cell_type": "code",
      "metadata": {
        "id": "2CkIdt4GHr4L",
        "colab_type": "code",
        "colab": {}
      },
      "source": [
        "n_estimators = [int(x) for x in np.linspace(start = 200, stop = 2000, num = 10)]\n",
        "max_features = ['auto', 'sqrt']\n",
        "max_depth = [int(x) for x in np.linspace(10, 110, num = 11)]\n",
        "max_depth.append(None)\n",
        "min_samples_split = [2, 5, 10]\n",
        "min_samples_leaf = [1, 2, 4]\n",
        "bootstrap = [True, False]\n",
        "\n",
        "rf_params = {\n",
        "    'n_estimators': n_estimators,\n",
        "    'max_features': max_features,\n",
        "    'max_depth': max_depth,\n",
        "    'min_samples_split': min_samples_split,\n",
        "    'min_samples_leaf': min_samples_leaf,\n",
        "    'bootstrap': bootstrap\n",
        "}"
      ],
      "execution_count": 0,
      "outputs": []
    },
    {
      "cell_type": "code",
      "metadata": {
        "id": "RtAY78MbIKbX",
        "colab_type": "code",
        "outputId": "bda2aaaa-418f-45df-ba8e-7b04285a62a7",
        "colab": {
          "base_uri": "https://localhost:8080/",
          "height": 1000
        }
      },
      "source": [
        "rf_model = RandomForestClassifier()\n",
        "random_rf = RandomizedSearchCV(rf_model, param_distributions=rf_params,\n",
        "                               cv=5, verbose=3, random_state=40)\n",
        "random_rf.fit(X, y)\n",
        "print('-'*50)\n",
        "random_rf.best_estimator_\n",
        "print('-'*50)\n",
        "random_rf.best_params_"
      ],
      "execution_count": 0,
      "outputs": [
        {
          "output_type": "stream",
          "text": [
            "Fitting 5 folds for each of 10 candidates, totalling 50 fits\n",
            "[CV] n_estimators=1800, min_samples_split=2, min_samples_leaf=4, max_features=sqrt, max_depth=70, bootstrap=False \n"
          ],
          "name": "stdout"
        },
        {
          "output_type": "stream",
          "text": [
            "[Parallel(n_jobs=1)]: Using backend SequentialBackend with 1 concurrent workers.\n"
          ],
          "name": "stderr"
        },
        {
          "output_type": "stream",
          "text": [
            "[CV]  n_estimators=1800, min_samples_split=2, min_samples_leaf=4, max_features=sqrt, max_depth=70, bootstrap=False, score=0.859, total= 1.1min\n",
            "[CV] n_estimators=1800, min_samples_split=2, min_samples_leaf=4, max_features=sqrt, max_depth=70, bootstrap=False \n"
          ],
          "name": "stdout"
        },
        {
          "output_type": "stream",
          "text": [
            "[Parallel(n_jobs=1)]: Done   1 out of   1 | elapsed:  1.1min remaining:    0.0s\n"
          ],
          "name": "stderr"
        },
        {
          "output_type": "stream",
          "text": [
            "[CV]  n_estimators=1800, min_samples_split=2, min_samples_leaf=4, max_features=sqrt, max_depth=70, bootstrap=False, score=0.858, total= 1.1min\n",
            "[CV] n_estimators=1800, min_samples_split=2, min_samples_leaf=4, max_features=sqrt, max_depth=70, bootstrap=False \n"
          ],
          "name": "stdout"
        },
        {
          "output_type": "stream",
          "text": [
            "[Parallel(n_jobs=1)]: Done   2 out of   2 | elapsed:  2.1min remaining:    0.0s\n"
          ],
          "name": "stderr"
        },
        {
          "output_type": "stream",
          "text": [
            "[CV]  n_estimators=1800, min_samples_split=2, min_samples_leaf=4, max_features=sqrt, max_depth=70, bootstrap=False, score=0.856, total= 1.1min\n",
            "[CV] n_estimators=1800, min_samples_split=2, min_samples_leaf=4, max_features=sqrt, max_depth=70, bootstrap=False \n",
            "[CV]  n_estimators=1800, min_samples_split=2, min_samples_leaf=4, max_features=sqrt, max_depth=70, bootstrap=False, score=0.854, total= 1.1min\n",
            "[CV] n_estimators=1800, min_samples_split=2, min_samples_leaf=4, max_features=sqrt, max_depth=70, bootstrap=False \n",
            "[CV]  n_estimators=1800, min_samples_split=2, min_samples_leaf=4, max_features=sqrt, max_depth=70, bootstrap=False, score=0.856, total= 1.0min\n",
            "[CV] n_estimators=1000, min_samples_split=2, min_samples_leaf=1, max_features=auto, max_depth=60, bootstrap=False \n",
            "[CV]  n_estimators=1000, min_samples_split=2, min_samples_leaf=1, max_features=auto, max_depth=60, bootstrap=False, score=0.834, total=  44.4s\n",
            "[CV] n_estimators=1000, min_samples_split=2, min_samples_leaf=1, max_features=auto, max_depth=60, bootstrap=False \n",
            "[CV]  n_estimators=1000, min_samples_split=2, min_samples_leaf=1, max_features=auto, max_depth=60, bootstrap=False, score=0.834, total=  44.7s\n",
            "[CV] n_estimators=1000, min_samples_split=2, min_samples_leaf=1, max_features=auto, max_depth=60, bootstrap=False \n",
            "[CV]  n_estimators=1000, min_samples_split=2, min_samples_leaf=1, max_features=auto, max_depth=60, bootstrap=False, score=0.832, total=  43.9s\n",
            "[CV] n_estimators=1000, min_samples_split=2, min_samples_leaf=1, max_features=auto, max_depth=60, bootstrap=False \n",
            "[CV]  n_estimators=1000, min_samples_split=2, min_samples_leaf=1, max_features=auto, max_depth=60, bootstrap=False, score=0.827, total=  44.0s\n",
            "[CV] n_estimators=1000, min_samples_split=2, min_samples_leaf=1, max_features=auto, max_depth=60, bootstrap=False \n",
            "[CV]  n_estimators=1000, min_samples_split=2, min_samples_leaf=1, max_features=auto, max_depth=60, bootstrap=False, score=0.836, total=  44.4s\n",
            "[CV] n_estimators=200, min_samples_split=5, min_samples_leaf=1, max_features=sqrt, max_depth=70, bootstrap=False \n",
            "[CV]  n_estimators=200, min_samples_split=5, min_samples_leaf=1, max_features=sqrt, max_depth=70, bootstrap=False, score=0.843, total=   8.6s\n",
            "[CV] n_estimators=200, min_samples_split=5, min_samples_leaf=1, max_features=sqrt, max_depth=70, bootstrap=False \n",
            "[CV]  n_estimators=200, min_samples_split=5, min_samples_leaf=1, max_features=sqrt, max_depth=70, bootstrap=False, score=0.841, total=   8.5s\n",
            "[CV] n_estimators=200, min_samples_split=5, min_samples_leaf=1, max_features=sqrt, max_depth=70, bootstrap=False \n",
            "[CV]  n_estimators=200, min_samples_split=5, min_samples_leaf=1, max_features=sqrt, max_depth=70, bootstrap=False, score=0.838, total=   8.4s\n",
            "[CV] n_estimators=200, min_samples_split=5, min_samples_leaf=1, max_features=sqrt, max_depth=70, bootstrap=False \n",
            "[CV]  n_estimators=200, min_samples_split=5, min_samples_leaf=1, max_features=sqrt, max_depth=70, bootstrap=False, score=0.831, total=   8.4s\n",
            "[CV] n_estimators=200, min_samples_split=5, min_samples_leaf=1, max_features=sqrt, max_depth=70, bootstrap=False \n",
            "[CV]  n_estimators=200, min_samples_split=5, min_samples_leaf=1, max_features=sqrt, max_depth=70, bootstrap=False, score=0.841, total=   8.6s\n",
            "[CV] n_estimators=800, min_samples_split=2, min_samples_leaf=1, max_features=auto, max_depth=90, bootstrap=False \n",
            "[CV]  n_estimators=800, min_samples_split=2, min_samples_leaf=1, max_features=auto, max_depth=90, bootstrap=False, score=0.835, total=  35.3s\n",
            "[CV] n_estimators=800, min_samples_split=2, min_samples_leaf=1, max_features=auto, max_depth=90, bootstrap=False \n",
            "[CV]  n_estimators=800, min_samples_split=2, min_samples_leaf=1, max_features=auto, max_depth=90, bootstrap=False, score=0.836, total=  35.5s\n",
            "[CV] n_estimators=800, min_samples_split=2, min_samples_leaf=1, max_features=auto, max_depth=90, bootstrap=False \n",
            "[CV]  n_estimators=800, min_samples_split=2, min_samples_leaf=1, max_features=auto, max_depth=90, bootstrap=False, score=0.833, total=  35.2s\n",
            "[CV] n_estimators=800, min_samples_split=2, min_samples_leaf=1, max_features=auto, max_depth=90, bootstrap=False \n",
            "[CV]  n_estimators=800, min_samples_split=2, min_samples_leaf=1, max_features=auto, max_depth=90, bootstrap=False, score=0.828, total=  35.2s\n",
            "[CV] n_estimators=800, min_samples_split=2, min_samples_leaf=1, max_features=auto, max_depth=90, bootstrap=False \n",
            "[CV]  n_estimators=800, min_samples_split=2, min_samples_leaf=1, max_features=auto, max_depth=90, bootstrap=False, score=0.836, total=  35.1s\n",
            "[CV] n_estimators=800, min_samples_split=2, min_samples_leaf=2, max_features=sqrt, max_depth=None, bootstrap=True \n",
            "[CV]  n_estimators=800, min_samples_split=2, min_samples_leaf=2, max_features=sqrt, max_depth=None, bootstrap=True, score=0.856, total=  21.0s\n",
            "[CV] n_estimators=800, min_samples_split=2, min_samples_leaf=2, max_features=sqrt, max_depth=None, bootstrap=True \n",
            "[CV]  n_estimators=800, min_samples_split=2, min_samples_leaf=2, max_features=sqrt, max_depth=None, bootstrap=True, score=0.855, total=  21.4s\n",
            "[CV] n_estimators=800, min_samples_split=2, min_samples_leaf=2, max_features=sqrt, max_depth=None, bootstrap=True \n",
            "[CV]  n_estimators=800, min_samples_split=2, min_samples_leaf=2, max_features=sqrt, max_depth=None, bootstrap=True, score=0.856, total=  21.1s\n",
            "[CV] n_estimators=800, min_samples_split=2, min_samples_leaf=2, max_features=sqrt, max_depth=None, bootstrap=True \n",
            "[CV]  n_estimators=800, min_samples_split=2, min_samples_leaf=2, max_features=sqrt, max_depth=None, bootstrap=True, score=0.850, total=  21.2s\n",
            "[CV] n_estimators=800, min_samples_split=2, min_samples_leaf=2, max_features=sqrt, max_depth=None, bootstrap=True \n",
            "[CV]  n_estimators=800, min_samples_split=2, min_samples_leaf=2, max_features=sqrt, max_depth=None, bootstrap=True, score=0.853, total=  21.0s\n",
            "[CV] n_estimators=800, min_samples_split=10, min_samples_leaf=4, max_features=auto, max_depth=30, bootstrap=True \n",
            "[CV]  n_estimators=800, min_samples_split=10, min_samples_leaf=4, max_features=auto, max_depth=30, bootstrap=True, score=0.859, total=  19.1s\n",
            "[CV] n_estimators=800, min_samples_split=10, min_samples_leaf=4, max_features=auto, max_depth=30, bootstrap=True \n",
            "[CV]  n_estimators=800, min_samples_split=10, min_samples_leaf=4, max_features=auto, max_depth=30, bootstrap=True, score=0.859, total=  19.1s\n",
            "[CV] n_estimators=800, min_samples_split=10, min_samples_leaf=4, max_features=auto, max_depth=30, bootstrap=True \n",
            "[CV]  n_estimators=800, min_samples_split=10, min_samples_leaf=4, max_features=auto, max_depth=30, bootstrap=True, score=0.858, total=  18.6s\n",
            "[CV] n_estimators=800, min_samples_split=10, min_samples_leaf=4, max_features=auto, max_depth=30, bootstrap=True \n",
            "[CV]  n_estimators=800, min_samples_split=10, min_samples_leaf=4, max_features=auto, max_depth=30, bootstrap=True, score=0.853, total=  18.9s\n",
            "[CV] n_estimators=800, min_samples_split=10, min_samples_leaf=4, max_features=auto, max_depth=30, bootstrap=True \n",
            "[CV]  n_estimators=800, min_samples_split=10, min_samples_leaf=4, max_features=auto, max_depth=30, bootstrap=True, score=0.856, total=  18.7s\n",
            "[CV] n_estimators=800, min_samples_split=5, min_samples_leaf=1, max_features=sqrt, max_depth=60, bootstrap=False \n",
            "[CV]  n_estimators=800, min_samples_split=5, min_samples_leaf=1, max_features=sqrt, max_depth=60, bootstrap=False, score=0.843, total=  34.0s\n",
            "[CV] n_estimators=800, min_samples_split=5, min_samples_leaf=1, max_features=sqrt, max_depth=60, bootstrap=False \n",
            "[CV]  n_estimators=800, min_samples_split=5, min_samples_leaf=1, max_features=sqrt, max_depth=60, bootstrap=False, score=0.841, total=  34.2s\n",
            "[CV] n_estimators=800, min_samples_split=5, min_samples_leaf=1, max_features=sqrt, max_depth=60, bootstrap=False \n",
            "[CV]  n_estimators=800, min_samples_split=5, min_samples_leaf=1, max_features=sqrt, max_depth=60, bootstrap=False, score=0.837, total=  33.8s\n",
            "[CV] n_estimators=800, min_samples_split=5, min_samples_leaf=1, max_features=sqrt, max_depth=60, bootstrap=False \n",
            "[CV]  n_estimators=800, min_samples_split=5, min_samples_leaf=1, max_features=sqrt, max_depth=60, bootstrap=False, score=0.830, total=  34.2s\n",
            "[CV] n_estimators=800, min_samples_split=5, min_samples_leaf=1, max_features=sqrt, max_depth=60, bootstrap=False \n",
            "[CV]  n_estimators=800, min_samples_split=5, min_samples_leaf=1, max_features=sqrt, max_depth=60, bootstrap=False, score=0.841, total=  34.1s\n",
            "[CV] n_estimators=400, min_samples_split=10, min_samples_leaf=2, max_features=sqrt, max_depth=None, bootstrap=True \n",
            "[CV]  n_estimators=400, min_samples_split=10, min_samples_leaf=2, max_features=sqrt, max_depth=None, bootstrap=True, score=0.857, total=  10.2s\n",
            "[CV] n_estimators=400, min_samples_split=10, min_samples_leaf=2, max_features=sqrt, max_depth=None, bootstrap=True \n",
            "[CV]  n_estimators=400, min_samples_split=10, min_samples_leaf=2, max_features=sqrt, max_depth=None, bootstrap=True, score=0.857, total=  10.4s\n",
            "[CV] n_estimators=400, min_samples_split=10, min_samples_leaf=2, max_features=sqrt, max_depth=None, bootstrap=True \n",
            "[CV]  n_estimators=400, min_samples_split=10, min_samples_leaf=2, max_features=sqrt, max_depth=None, bootstrap=True, score=0.856, total=  10.2s\n",
            "[CV] n_estimators=400, min_samples_split=10, min_samples_leaf=2, max_features=sqrt, max_depth=None, bootstrap=True \n",
            "[CV]  n_estimators=400, min_samples_split=10, min_samples_leaf=2, max_features=sqrt, max_depth=None, bootstrap=True, score=0.852, total=  10.1s\n",
            "[CV] n_estimators=400, min_samples_split=10, min_samples_leaf=2, max_features=sqrt, max_depth=None, bootstrap=True \n",
            "[CV]  n_estimators=400, min_samples_split=10, min_samples_leaf=2, max_features=sqrt, max_depth=None, bootstrap=True, score=0.854, total=  10.2s\n",
            "[CV] n_estimators=1800, min_samples_split=10, min_samples_leaf=1, max_features=auto, max_depth=100, bootstrap=False \n",
            "[CV]  n_estimators=1800, min_samples_split=10, min_samples_leaf=1, max_features=auto, max_depth=100, bootstrap=False, score=0.846, total= 1.2min\n",
            "[CV] n_estimators=1800, min_samples_split=10, min_samples_leaf=1, max_features=auto, max_depth=100, bootstrap=False \n",
            "[CV]  n_estimators=1800, min_samples_split=10, min_samples_leaf=1, max_features=auto, max_depth=100, bootstrap=False, score=0.844, total= 1.2min\n",
            "[CV] n_estimators=1800, min_samples_split=10, min_samples_leaf=1, max_features=auto, max_depth=100, bootstrap=False \n",
            "[CV]  n_estimators=1800, min_samples_split=10, min_samples_leaf=1, max_features=auto, max_depth=100, bootstrap=False, score=0.845, total= 1.2min\n",
            "[CV] n_estimators=1800, min_samples_split=10, min_samples_leaf=1, max_features=auto, max_depth=100, bootstrap=False \n",
            "[CV]  n_estimators=1800, min_samples_split=10, min_samples_leaf=1, max_features=auto, max_depth=100, bootstrap=False, score=0.840, total= 1.2min\n",
            "[CV] n_estimators=1800, min_samples_split=10, min_samples_leaf=1, max_features=auto, max_depth=100, bootstrap=False \n",
            "[CV]  n_estimators=1800, min_samples_split=10, min_samples_leaf=1, max_features=auto, max_depth=100, bootstrap=False, score=0.846, total= 1.2min\n",
            "[CV] n_estimators=2000, min_samples_split=5, min_samples_leaf=1, max_features=sqrt, max_depth=100, bootstrap=False \n",
            "[CV]  n_estimators=2000, min_samples_split=5, min_samples_leaf=1, max_features=sqrt, max_depth=100, bootstrap=False, score=0.844, total= 1.4min\n",
            "[CV] n_estimators=2000, min_samples_split=5, min_samples_leaf=1, max_features=sqrt, max_depth=100, bootstrap=False \n",
            "[CV]  n_estimators=2000, min_samples_split=5, min_samples_leaf=1, max_features=sqrt, max_depth=100, bootstrap=False, score=0.843, total= 1.4min\n",
            "[CV] n_estimators=2000, min_samples_split=5, min_samples_leaf=1, max_features=sqrt, max_depth=100, bootstrap=False \n",
            "[CV]  n_estimators=2000, min_samples_split=5, min_samples_leaf=1, max_features=sqrt, max_depth=100, bootstrap=False, score=0.837, total= 1.4min\n",
            "[CV] n_estimators=2000, min_samples_split=5, min_samples_leaf=1, max_features=sqrt, max_depth=100, bootstrap=False \n",
            "[CV]  n_estimators=2000, min_samples_split=5, min_samples_leaf=1, max_features=sqrt, max_depth=100, bootstrap=False, score=0.831, total= 1.4min\n",
            "[CV] n_estimators=2000, min_samples_split=5, min_samples_leaf=1, max_features=sqrt, max_depth=100, bootstrap=False \n",
            "[CV]  n_estimators=2000, min_samples_split=5, min_samples_leaf=1, max_features=sqrt, max_depth=100, bootstrap=False, score=0.840, total= 1.4min\n"
          ],
          "name": "stdout"
        },
        {
          "output_type": "stream",
          "text": [
            "[Parallel(n_jobs=1)]: Done  50 out of  50 | elapsed: 32.8min finished\n"
          ],
          "name": "stderr"
        },
        {
          "output_type": "stream",
          "text": [
            "--------------------------------------------------\n",
            "--------------------------------------------------\n"
          ],
          "name": "stdout"
        },
        {
          "output_type": "execute_result",
          "data": {
            "text/plain": [
              "{'bootstrap': True,\n",
              " 'max_depth': 30,\n",
              " 'max_features': 'auto',\n",
              " 'min_samples_leaf': 4,\n",
              " 'min_samples_split': 10,\n",
              " 'n_estimators': 800}"
            ]
          },
          "metadata": {
            "tags": []
          },
          "execution_count": 64
        }
      ]
    },
    {
      "cell_type": "code",
      "metadata": {
        "id": "2k7yDerXgfPU",
        "colab_type": "code",
        "outputId": "06ac8453-98dd-4f44-a11b-07ddc40c6af0",
        "colab": {
          "base_uri": "https://localhost:8080/",
          "height": 153
        }
      },
      "source": [
        "random_rf.best_estimator_"
      ],
      "execution_count": 0,
      "outputs": [
        {
          "output_type": "execute_result",
          "data": {
            "text/plain": [
              "RandomForestClassifier(bootstrap=True, ccp_alpha=0.0, class_weight=None,\n",
              "                       criterion='gini', max_depth=30, max_features='auto',\n",
              "                       max_leaf_nodes=None, max_samples=None,\n",
              "                       min_impurity_decrease=0.0, min_impurity_split=None,\n",
              "                       min_samples_leaf=4, min_samples_split=10,\n",
              "                       min_weight_fraction_leaf=0.0, n_estimators=800,\n",
              "                       n_jobs=None, oob_score=False, random_state=None,\n",
              "                       verbose=0, warm_start=False)"
            ]
          },
          "metadata": {
            "tags": []
          },
          "execution_count": 65
        }
      ]
    },
    {
      "cell_type": "code",
      "metadata": {
        "id": "g8vcEpAJa4RG",
        "colab_type": "code",
        "outputId": "e28f7c46-468d-4e15-b554-e02b4cca28bf",
        "colab": {
          "base_uri": "https://localhost:8080/",
          "height": 85
        }
      },
      "source": [
        "best_model_rf = RandomForestClassifier(bootstrap=True, ccp_alpha=0.0, class_weight=None,\n",
        "                       criterion='gini', max_depth=30, max_features='auto',\n",
        "                       max_leaf_nodes=None, max_samples=None,\n",
        "                       min_impurity_decrease=0.0, min_impurity_split=None,\n",
        "                       min_samples_leaf=4, min_samples_split=10,\n",
        "                       min_weight_fraction_leaf=0.0, n_estimators=800,\n",
        "                       n_jobs=None, oob_score=False, random_state=None,\n",
        "                       verbose=0, warm_start=False)\n",
        "\n",
        "score_rf = cross_val_score(best_model_rf, X, y, scoring='roc_auc', cv=10)\n",
        "print(score_rf)\n",
        "print('-'*40)\n",
        "print(score_rf.mean())"
      ],
      "execution_count": 0,
      "outputs": [
        {
          "output_type": "stream",
          "text": [
            "[0.91544521 0.91312816 0.91648861 0.91496734 0.91270518 0.90763598\n",
            " 0.90188151 0.91044726 0.90969655 0.91027882]\n",
            "----------------------------------------\n",
            "0.9112674614299715\n"
          ],
          "name": "stdout"
        }
      ]
    },
    {
      "cell_type": "code",
      "metadata": {
        "id": "tMnb56-WiUN8",
        "colab_type": "code",
        "outputId": "61310e7e-9ea7-480d-f72b-082ef46c3127",
        "colab": {
          "base_uri": "https://localhost:8080/",
          "height": 153
        }
      },
      "source": [
        "best_model_rf.fit(X, y)"
      ],
      "execution_count": 0,
      "outputs": [
        {
          "output_type": "execute_result",
          "data": {
            "text/plain": [
              "RandomForestClassifier(bootstrap=True, ccp_alpha=0.0, class_weight=None,\n",
              "                       criterion='gini', max_depth=30, max_features='auto',\n",
              "                       max_leaf_nodes=None, max_samples=None,\n",
              "                       min_impurity_decrease=0.0, min_impurity_split=None,\n",
              "                       min_samples_leaf=4, min_samples_split=10,\n",
              "                       min_weight_fraction_leaf=0.0, n_estimators=800,\n",
              "                       n_jobs=None, oob_score=False, random_state=None,\n",
              "                       verbose=0, warm_start=False)"
            ]
          },
          "metadata": {
            "tags": []
          },
          "execution_count": 68
        }
      ]
    },
    {
      "cell_type": "code",
      "metadata": {
        "id": "NQ-Deb_LjS-i",
        "colab_type": "code",
        "colab": {}
      },
      "source": [
        ""
      ],
      "execution_count": 0,
      "outputs": []
    }
  ]
}